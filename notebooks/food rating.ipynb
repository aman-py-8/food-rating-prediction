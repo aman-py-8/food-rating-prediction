{
 "cells": [
  {
   "cell_type": "code",
   "execution_count": 1,
   "id": "624014b6",
   "metadata": {
    "_cell_guid": "b1076dfc-b9ad-4769-8c92-a6c4dae69d19",
    "_uuid": "8f2839f25d086af736a60e9eeb907d3b93b6e0e5",
    "execution": {
     "iopub.execute_input": "2024-04-11T06:06:43.400691Z",
     "iopub.status.busy": "2024-04-11T06:06:43.400001Z",
     "iopub.status.idle": "2024-04-11T06:06:44.267209Z",
     "shell.execute_reply": "2024-04-11T06:06:44.266486Z"
    },
    "papermill": {
     "duration": 0.883104,
     "end_time": "2024-04-11T06:06:44.269204",
     "exception": false,
     "start_time": "2024-04-11T06:06:43.386100",
     "status": "completed"
    },
    "tags": []
   },
   "outputs": [
    {
     "name": "stdout",
     "output_type": "stream",
     "text": [
      "/kaggle/input/recipe-for-rating-predict-food-ratings-using-ml/sample.csv\n",
      "/kaggle/input/recipe-for-rating-predict-food-ratings-using-ml/train.csv\n",
      "/kaggle/input/recipe-for-rating-predict-food-ratings-using-ml/test.csv\n"
     ]
    }
   ],
   "source": [
    "# This Python 3 environment comes with many helpful analytics libraries installed\n",
    "# It is defined by the kaggle/python Docker image: https://github.com/kaggle/docker-python\n",
    "# For example, here's several helpful packages to load\n",
    "\n",
    "import numpy as np # linear algebra\n",
    "import pandas as pd # data processing, CSV file I/O (e.g. pd.read_csv)\n",
    "\n",
    "# Input data files are available in the read-only \"../input/\" directory\n",
    "# For example, running this (by clicking run or pressing Shift+Enter) will list all files under the input directory\n",
    "\n",
    "import os\n",
    "for dirname, _, filenames in os.walk('/kaggle/input'):\n",
    "    for filename in filenames:\n",
    "        print(os.path.join(dirname, filename))\n",
    "\n",
    "# You can write up to 20GB to the current directory (/kaggle/working/) that gets preserved as output when you create a version using \"Save & Run All\" \n",
    "# You can also write temporary files to /kaggle/temp/, but they won't be saved outside of the current session"
   ]
  },
  {
   "cell_type": "markdown",
   "id": "37341317",
   "metadata": {
    "papermill": {
     "duration": 0.014734,
     "end_time": "2024-04-11T06:06:44.299258",
     "exception": false,
     "start_time": "2024-04-11T06:06:44.284524",
     "status": "completed"
    },
    "tags": []
   },
   "source": [
    "# Importing important libraries"
   ]
  },
  {
   "cell_type": "code",
   "execution_count": 2,
   "id": "9fd7aba5",
   "metadata": {
    "execution": {
     "iopub.execute_input": "2024-04-11T06:06:44.327647Z",
     "iopub.status.busy": "2024-04-11T06:06:44.326084Z",
     "iopub.status.idle": "2024-04-11T06:06:46.251651Z",
     "shell.execute_reply": "2024-04-11T06:06:46.250713Z"
    },
    "papermill": {
     "duration": 1.941055,
     "end_time": "2024-04-11T06:06:46.253833",
     "exception": false,
     "start_time": "2024-04-11T06:06:44.312778",
     "status": "completed"
    },
    "tags": []
   },
   "outputs": [],
   "source": [
    "from sklearn.dummy import DummyClassifier\n",
    "from sklearn.model_selection import train_test_split\n",
    "from sklearn.feature_extraction.text import TfidfVectorizer\n",
    "from sklearn.ensemble import RandomForestClassifier\n",
    "from sklearn.metrics import classification_report\n",
    "from sklearn.impute import SimpleImputer\n",
    "from sklearn.metrics import classification_report, accuracy_score\n",
    "\n",
    "import seaborn as sns\n",
    "import matplotlib.pyplot as plt\n",
    "import string\n",
    "import html\n",
    "import re"
   ]
  },
  {
   "cell_type": "markdown",
   "id": "37422384",
   "metadata": {
    "papermill": {
     "duration": 0.012398,
     "end_time": "2024-04-11T06:06:46.278231",
     "exception": false,
     "start_time": "2024-04-11T06:06:46.265833",
     "status": "completed"
    },
    "tags": []
   },
   "source": [
    "# **LOADING THE DATA**"
   ]
  },
  {
   "cell_type": "code",
   "execution_count": 3,
   "id": "47f14589",
   "metadata": {
    "execution": {
     "iopub.execute_input": "2024-04-11T06:06:46.303186Z",
     "iopub.status.busy": "2024-04-11T06:06:46.302825Z",
     "iopub.status.idle": "2024-04-11T06:06:46.518882Z",
     "shell.execute_reply": "2024-04-11T06:06:46.517382Z"
    },
    "papermill": {
     "duration": 0.230921,
     "end_time": "2024-04-11T06:06:46.520785",
     "exception": false,
     "start_time": "2024-04-11T06:06:46.289864",
     "status": "completed"
    },
    "tags": []
   },
   "outputs": [
    {
     "data": {
      "text/html": [
       "<div>\n",
       "<style scoped>\n",
       "    .dataframe tbody tr th:only-of-type {\n",
       "        vertical-align: middle;\n",
       "    }\n",
       "\n",
       "    .dataframe tbody tr th {\n",
       "        vertical-align: top;\n",
       "    }\n",
       "\n",
       "    .dataframe thead th {\n",
       "        text-align: right;\n",
       "    }\n",
       "</style>\n",
       "<table border=\"1\" class=\"dataframe\">\n",
       "  <thead>\n",
       "    <tr style=\"text-align: right;\">\n",
       "      <th></th>\n",
       "      <th>ID</th>\n",
       "      <th>RecipeNumber</th>\n",
       "      <th>RecipeCode</th>\n",
       "      <th>RecipeName</th>\n",
       "      <th>CommentID</th>\n",
       "      <th>UserID</th>\n",
       "      <th>UserName</th>\n",
       "      <th>UserReputation</th>\n",
       "      <th>CreationTimestamp</th>\n",
       "      <th>ReplyCount</th>\n",
       "      <th>ThumbsUpCount</th>\n",
       "      <th>ThumbsDownCount</th>\n",
       "      <th>Rating</th>\n",
       "      <th>BestScore</th>\n",
       "      <th>Recipe_Review</th>\n",
       "    </tr>\n",
       "  </thead>\n",
       "  <tbody>\n",
       "    <tr>\n",
       "      <th>0</th>\n",
       "      <td>70</td>\n",
       "      <td>71</td>\n",
       "      <td>12259</td>\n",
       "      <td>Banana Bars with Cream Cheese Frosting</td>\n",
       "      <td>sp_aUSaElGf_12259_c_149978</td>\n",
       "      <td>u_1oKVaBmiEKwAFyiHrDLoWpbel0J</td>\n",
       "      <td>misscoffeepot</td>\n",
       "      <td>20</td>\n",
       "      <td>1622717078</td>\n",
       "      <td>0</td>\n",
       "      <td>0</td>\n",
       "      <td>0</td>\n",
       "      <td>5</td>\n",
       "      <td>100</td>\n",
       "      <td>great recipe! I have made them just as written...</td>\n",
       "    </tr>\n",
       "    <tr>\n",
       "      <th>1</th>\n",
       "      <td>72</td>\n",
       "      <td>88</td>\n",
       "      <td>8202</td>\n",
       "      <td>Simple Taco Soup</td>\n",
       "      <td>sp_aUSaElGf_8202_c_310332</td>\n",
       "      <td>u_1oKZeRIXYzGNhGW8OMR3O4lX1ih</td>\n",
       "      <td>MichelleMalone</td>\n",
       "      <td>1</td>\n",
       "      <td>1622717852</td>\n",
       "      <td>0</td>\n",
       "      <td>0</td>\n",
       "      <td>1</td>\n",
       "      <td>5</td>\n",
       "      <td>100</td>\n",
       "      <td>This is an easy and quick recipe that is great...</td>\n",
       "    </tr>\n",
       "    <tr>\n",
       "      <th>2</th>\n",
       "      <td>458</td>\n",
       "      <td>3</td>\n",
       "      <td>2832</td>\n",
       "      <td>Cheeseburger Soup</td>\n",
       "      <td>sp_aUSaElGf_2832_c_206522</td>\n",
       "      <td>u_1oKYHUtdaD48KJCDYq5wfpAUxWz</td>\n",
       "      <td>jeannem32</td>\n",
       "      <td>1</td>\n",
       "      <td>1622717357</td>\n",
       "      <td>0</td>\n",
       "      <td>0</td>\n",
       "      <td>0</td>\n",
       "      <td>3</td>\n",
       "      <td>100</td>\n",
       "      <td>I think I was looking for something extra spec...</td>\n",
       "    </tr>\n",
       "    <tr>\n",
       "      <th>3</th>\n",
       "      <td>7</td>\n",
       "      <td>50</td>\n",
       "      <td>100276</td>\n",
       "      <td>Grilled Huli Huli Chicken</td>\n",
       "      <td>sp_aUSaElGf_100276_c_434088</td>\n",
       "      <td>u_1oKZCQcKQZdQhDVBS7oISc216VA</td>\n",
       "      <td>ds422</td>\n",
       "      <td>1</td>\n",
       "      <td>1622648899</td>\n",
       "      <td>0</td>\n",
       "      <td>0</td>\n",
       "      <td>0</td>\n",
       "      <td>5</td>\n",
       "      <td>100</td>\n",
       "      <td>This is our favorite grilled chicken recipe.  ...</td>\n",
       "    </tr>\n",
       "    <tr>\n",
       "      <th>4</th>\n",
       "      <td>60</td>\n",
       "      <td>12</td>\n",
       "      <td>19731</td>\n",
       "      <td>Cauliflower Soup</td>\n",
       "      <td>sp_aUSaElGf_19731_c_387011</td>\n",
       "      <td>u_1oKd4sudZQPgu6YALiC7bW7mKMs</td>\n",
       "      <td>SusanHoward</td>\n",
       "      <td>1</td>\n",
       "      <td>1622718260</td>\n",
       "      <td>0</td>\n",
       "      <td>0</td>\n",
       "      <td>0</td>\n",
       "      <td>4</td>\n",
       "      <td>100</td>\n",
       "      <td>Great basic recipe. I added 2 teaspoons Tuscan...</td>\n",
       "    </tr>\n",
       "  </tbody>\n",
       "</table>\n",
       "</div>"
      ],
      "text/plain": [
       "    ID  RecipeNumber  RecipeCode                              RecipeName  \\\n",
       "0   70            71       12259  Banana Bars with Cream Cheese Frosting   \n",
       "1   72            88        8202                        Simple Taco Soup   \n",
       "2  458             3        2832                       Cheeseburger Soup   \n",
       "3    7            50      100276               Grilled Huli Huli Chicken   \n",
       "4   60            12       19731                        Cauliflower Soup   \n",
       "\n",
       "                     CommentID                         UserID        UserName  \\\n",
       "0   sp_aUSaElGf_12259_c_149978  u_1oKVaBmiEKwAFyiHrDLoWpbel0J   misscoffeepot   \n",
       "1    sp_aUSaElGf_8202_c_310332  u_1oKZeRIXYzGNhGW8OMR3O4lX1ih  MichelleMalone   \n",
       "2    sp_aUSaElGf_2832_c_206522  u_1oKYHUtdaD48KJCDYq5wfpAUxWz       jeannem32   \n",
       "3  sp_aUSaElGf_100276_c_434088  u_1oKZCQcKQZdQhDVBS7oISc216VA           ds422   \n",
       "4   sp_aUSaElGf_19731_c_387011  u_1oKd4sudZQPgu6YALiC7bW7mKMs     SusanHoward   \n",
       "\n",
       "   UserReputation  CreationTimestamp  ReplyCount  ThumbsUpCount  \\\n",
       "0              20         1622717078           0              0   \n",
       "1               1         1622717852           0              0   \n",
       "2               1         1622717357           0              0   \n",
       "3               1         1622648899           0              0   \n",
       "4               1         1622718260           0              0   \n",
       "\n",
       "   ThumbsDownCount  Rating  BestScore  \\\n",
       "0                0       5        100   \n",
       "1                1       5        100   \n",
       "2                0       3        100   \n",
       "3                0       5        100   \n",
       "4                0       4        100   \n",
       "\n",
       "                                       Recipe_Review  \n",
       "0  great recipe! I have made them just as written...  \n",
       "1  This is an easy and quick recipe that is great...  \n",
       "2  I think I was looking for something extra spec...  \n",
       "3  This is our favorite grilled chicken recipe.  ...  \n",
       "4  Great basic recipe. I added 2 teaspoons Tuscan...  "
      ]
     },
     "execution_count": 3,
     "metadata": {},
     "output_type": "execute_result"
    }
   ],
   "source": [
    "train_df = pd.read_csv(\"/kaggle/input/recipe-for-rating-predict-food-ratings-using-ml/train.csv\")\n",
    "test_df = pd.read_csv(\"/kaggle/input/recipe-for-rating-predict-food-ratings-using-ml/test.csv\")\n",
    "train_df.head()"
   ]
  },
  {
   "cell_type": "markdown",
   "id": "5c46a149",
   "metadata": {
    "papermill": {
     "duration": 0.01181,
     "end_time": "2024-04-11T06:06:46.544578",
     "exception": false,
     "start_time": "2024-04-11T06:06:46.532768",
     "status": "completed"
    },
    "tags": []
   },
   "source": [
    "# **EDA ON THE DATASET**"
   ]
  },
  {
   "cell_type": "code",
   "execution_count": 4,
   "id": "66ea9980",
   "metadata": {
    "execution": {
     "iopub.execute_input": "2024-04-11T06:06:46.570250Z",
     "iopub.status.busy": "2024-04-11T06:06:46.569867Z",
     "iopub.status.idle": "2024-04-11T06:06:46.602089Z",
     "shell.execute_reply": "2024-04-11T06:06:46.600891Z"
    },
    "papermill": {
     "duration": 0.047151,
     "end_time": "2024-04-11T06:06:46.603850",
     "exception": false,
     "start_time": "2024-04-11T06:06:46.556699",
     "status": "completed"
    },
    "tags": []
   },
   "outputs": [
    {
     "name": "stdout",
     "output_type": "stream",
     "text": [
      "shape of train data : (13636, 15)\n",
      "shape of test data : (4546, 14)\n",
      "<class 'pandas.core.frame.DataFrame'>\n",
      "RangeIndex: 13636 entries, 0 to 13635\n",
      "Data columns (total 15 columns):\n",
      " #   Column             Non-Null Count  Dtype \n",
      "---  ------             --------------  ----- \n",
      " 0   ID                 13636 non-null  int64 \n",
      " 1   RecipeNumber       13636 non-null  int64 \n",
      " 2   RecipeCode         13636 non-null  int64 \n",
      " 3   RecipeName         13636 non-null  object\n",
      " 4   CommentID          13636 non-null  object\n",
      " 5   UserID             13636 non-null  object\n",
      " 6   UserName           13636 non-null  object\n",
      " 7   UserReputation     13636 non-null  int64 \n",
      " 8   CreationTimestamp  13636 non-null  int64 \n",
      " 9   ReplyCount         13636 non-null  int64 \n",
      " 10  ThumbsUpCount      13636 non-null  int64 \n",
      " 11  ThumbsDownCount    13636 non-null  int64 \n",
      " 12  Rating             13636 non-null  int64 \n",
      " 13  BestScore          13636 non-null  int64 \n",
      " 14  Recipe_Review      13634 non-null  object\n",
      "dtypes: int64(10), object(5)\n",
      "memory usage: 1.6+ MB\n",
      "None\n"
     ]
    }
   ],
   "source": [
    "#check the shape of Dataset\n",
    "print(f\"\"\"shape of train data : {train_df.shape}\n",
    "shape of test data : {test_df.shape}\"\"\")\n",
    "\n",
    "#check the datatype of each column\n",
    "print(train_df.info())"
   ]
  },
  {
   "cell_type": "markdown",
   "id": "99088309",
   "metadata": {
    "papermill": {
     "duration": 0.011505,
     "end_time": "2024-04-11T06:06:46.627707",
     "exception": false,
     "start_time": "2024-04-11T06:06:46.616202",
     "status": "completed"
    },
    "tags": []
   },
   "source": [
    " **KEY STATISTICS AND RELATIONSHIPS IN THE DATA**"
   ]
  },
  {
   "cell_type": "code",
   "execution_count": 5,
   "id": "b7188640",
   "metadata": {
    "execution": {
     "iopub.execute_input": "2024-04-11T06:06:46.653948Z",
     "iopub.status.busy": "2024-04-11T06:06:46.652603Z",
     "iopub.status.idle": "2024-04-11T06:06:46.697430Z",
     "shell.execute_reply": "2024-04-11T06:06:46.696707Z"
    },
    "papermill": {
     "duration": 0.060821,
     "end_time": "2024-04-11T06:06:46.700223",
     "exception": false,
     "start_time": "2024-04-11T06:06:46.639402",
     "status": "completed"
    },
    "tags": []
   },
   "outputs": [
    {
     "data": {
      "text/html": [
       "<div>\n",
       "<style scoped>\n",
       "    .dataframe tbody tr th:only-of-type {\n",
       "        vertical-align: middle;\n",
       "    }\n",
       "\n",
       "    .dataframe tbody tr th {\n",
       "        vertical-align: top;\n",
       "    }\n",
       "\n",
       "    .dataframe thead th {\n",
       "        text-align: right;\n",
       "    }\n",
       "</style>\n",
       "<table border=\"1\" class=\"dataframe\">\n",
       "  <thead>\n",
       "    <tr style=\"text-align: right;\">\n",
       "      <th></th>\n",
       "      <th>count</th>\n",
       "      <th>mean</th>\n",
       "      <th>std</th>\n",
       "      <th>min</th>\n",
       "      <th>25%</th>\n",
       "      <th>50%</th>\n",
       "      <th>75%</th>\n",
       "      <th>max</th>\n",
       "    </tr>\n",
       "  </thead>\n",
       "  <tbody>\n",
       "    <tr>\n",
       "      <th>ID</th>\n",
       "      <td>13636.0</td>\n",
       "      <td>1.210853e+02</td>\n",
       "      <td>1.169956e+02</td>\n",
       "      <td>0.000000e+00</td>\n",
       "      <td>4.500000e+01</td>\n",
       "      <td>9.100000e+01</td>\n",
       "      <td>1.480000e+02</td>\n",
       "      <td>7.240000e+02</td>\n",
       "    </tr>\n",
       "    <tr>\n",
       "      <th>RecipeNumber</th>\n",
       "      <td>13636.0</td>\n",
       "      <td>3.862438e+01</td>\n",
       "      <td>2.967235e+01</td>\n",
       "      <td>1.000000e+00</td>\n",
       "      <td>1.200000e+01</td>\n",
       "      <td>3.300000e+01</td>\n",
       "      <td>6.300000e+01</td>\n",
       "      <td>1.000000e+02</td>\n",
       "    </tr>\n",
       "    <tr>\n",
       "      <th>RecipeCode</th>\n",
       "      <td>13636.0</td>\n",
       "      <td>2.178599e+04</td>\n",
       "      <td>2.388319e+04</td>\n",
       "      <td>3.860000e+02</td>\n",
       "      <td>6.504000e+03</td>\n",
       "      <td>1.460000e+04</td>\n",
       "      <td>3.312100e+04</td>\n",
       "      <td>1.917750e+05</td>\n",
       "    </tr>\n",
       "    <tr>\n",
       "      <th>UserReputation</th>\n",
       "      <td>13636.0</td>\n",
       "      <td>2.160311e+00</td>\n",
       "      <td>1.008642e+01</td>\n",
       "      <td>0.000000e+00</td>\n",
       "      <td>1.000000e+00</td>\n",
       "      <td>1.000000e+00</td>\n",
       "      <td>1.000000e+00</td>\n",
       "      <td>5.100000e+02</td>\n",
       "    </tr>\n",
       "    <tr>\n",
       "      <th>CreationTimestamp</th>\n",
       "      <td>13636.0</td>\n",
       "      <td>1.623713e+09</td>\n",
       "      <td>5.444020e+06</td>\n",
       "      <td>1.613035e+09</td>\n",
       "      <td>1.622717e+09</td>\n",
       "      <td>1.622718e+09</td>\n",
       "      <td>1.622718e+09</td>\n",
       "      <td>1.665756e+09</td>\n",
       "    </tr>\n",
       "    <tr>\n",
       "      <th>ReplyCount</th>\n",
       "      <td>13636.0</td>\n",
       "      <td>1.452039e-02</td>\n",
       "      <td>1.373234e-01</td>\n",
       "      <td>0.000000e+00</td>\n",
       "      <td>0.000000e+00</td>\n",
       "      <td>0.000000e+00</td>\n",
       "      <td>0.000000e+00</td>\n",
       "      <td>3.000000e+00</td>\n",
       "    </tr>\n",
       "    <tr>\n",
       "      <th>ThumbsUpCount</th>\n",
       "      <td>13636.0</td>\n",
       "      <td>1.098269e+00</td>\n",
       "      <td>4.166487e+00</td>\n",
       "      <td>0.000000e+00</td>\n",
       "      <td>0.000000e+00</td>\n",
       "      <td>0.000000e+00</td>\n",
       "      <td>0.000000e+00</td>\n",
       "      <td>8.000000e+01</td>\n",
       "    </tr>\n",
       "    <tr>\n",
       "      <th>ThumbsDownCount</th>\n",
       "      <td>13636.0</td>\n",
       "      <td>5.437078e-01</td>\n",
       "      <td>3.265660e+00</td>\n",
       "      <td>0.000000e+00</td>\n",
       "      <td>0.000000e+00</td>\n",
       "      <td>0.000000e+00</td>\n",
       "      <td>0.000000e+00</td>\n",
       "      <td>1.260000e+02</td>\n",
       "    </tr>\n",
       "    <tr>\n",
       "      <th>Rating</th>\n",
       "      <td>13636.0</td>\n",
       "      <td>4.288721e+00</td>\n",
       "      <td>1.544839e+00</td>\n",
       "      <td>0.000000e+00</td>\n",
       "      <td>5.000000e+00</td>\n",
       "      <td>5.000000e+00</td>\n",
       "      <td>5.000000e+00</td>\n",
       "      <td>5.000000e+00</td>\n",
       "    </tr>\n",
       "    <tr>\n",
       "      <th>BestScore</th>\n",
       "      <td>13636.0</td>\n",
       "      <td>1.531279e+02</td>\n",
       "      <td>1.409869e+02</td>\n",
       "      <td>0.000000e+00</td>\n",
       "      <td>1.000000e+02</td>\n",
       "      <td>1.000000e+02</td>\n",
       "      <td>1.000000e+02</td>\n",
       "      <td>9.460000e+02</td>\n",
       "    </tr>\n",
       "  </tbody>\n",
       "</table>\n",
       "</div>"
      ],
      "text/plain": [
       "                     count          mean           std           min  \\\n",
       "ID                 13636.0  1.210853e+02  1.169956e+02  0.000000e+00   \n",
       "RecipeNumber       13636.0  3.862438e+01  2.967235e+01  1.000000e+00   \n",
       "RecipeCode         13636.0  2.178599e+04  2.388319e+04  3.860000e+02   \n",
       "UserReputation     13636.0  2.160311e+00  1.008642e+01  0.000000e+00   \n",
       "CreationTimestamp  13636.0  1.623713e+09  5.444020e+06  1.613035e+09   \n",
       "ReplyCount         13636.0  1.452039e-02  1.373234e-01  0.000000e+00   \n",
       "ThumbsUpCount      13636.0  1.098269e+00  4.166487e+00  0.000000e+00   \n",
       "ThumbsDownCount    13636.0  5.437078e-01  3.265660e+00  0.000000e+00   \n",
       "Rating             13636.0  4.288721e+00  1.544839e+00  0.000000e+00   \n",
       "BestScore          13636.0  1.531279e+02  1.409869e+02  0.000000e+00   \n",
       "\n",
       "                            25%           50%           75%           max  \n",
       "ID                 4.500000e+01  9.100000e+01  1.480000e+02  7.240000e+02  \n",
       "RecipeNumber       1.200000e+01  3.300000e+01  6.300000e+01  1.000000e+02  \n",
       "RecipeCode         6.504000e+03  1.460000e+04  3.312100e+04  1.917750e+05  \n",
       "UserReputation     1.000000e+00  1.000000e+00  1.000000e+00  5.100000e+02  \n",
       "CreationTimestamp  1.622717e+09  1.622718e+09  1.622718e+09  1.665756e+09  \n",
       "ReplyCount         0.000000e+00  0.000000e+00  0.000000e+00  3.000000e+00  \n",
       "ThumbsUpCount      0.000000e+00  0.000000e+00  0.000000e+00  8.000000e+01  \n",
       "ThumbsDownCount    0.000000e+00  0.000000e+00  0.000000e+00  1.260000e+02  \n",
       "Rating             5.000000e+00  5.000000e+00  5.000000e+00  5.000000e+00  \n",
       "BestScore          1.000000e+02  1.000000e+02  1.000000e+02  9.460000e+02  "
      ]
     },
     "execution_count": 5,
     "metadata": {},
     "output_type": "execute_result"
    }
   ],
   "source": [
    "train_df.describe().transpose()"
   ]
  },
  {
   "cell_type": "markdown",
   "id": "78494f15",
   "metadata": {
    "papermill": {
     "duration": 0.011976,
     "end_time": "2024-04-11T06:06:46.726523",
     "exception": false,
     "start_time": "2024-04-11T06:06:46.714547",
     "status": "completed"
    },
    "tags": []
   },
   "source": [
    "**KEY POINTS**\n",
    "\n",
    "\n",
    "1. Count:\n",
    "\n",
    "* There are 13,636 observations for each variable, indicating a reasonably large dataset.\n",
    "* There are 14 features in the dataset.\n",
    "\n",
    "2. Mean:\n",
    "\n",
    "* For \"ID,\" \"RecipeNumber,\" \"RecipeCode,\" and \"CreationTimestamp,\" the means are relatively high, suggesting that these variables may have a wide range of values.\n",
    "* The mean for \"UserReputation\" is around 2.16, indicating that the average user reputation score is relatively low.\n",
    "* The mean for \"ReplyCount,\" \"ThumbsUpCount,\" and \"ThumbsDownCount\" are very close to zero, suggesting that the majority of observations have no replies, thumbs up, or thumbs down.\n",
    "* The mean rating is approximately 4.29, indicating that the average rating is relatively high.\n",
    "\n",
    "3. Standard Deviation (Std):\n",
    "\n",
    "* Variables such as \"ID,\" \"RecipeNumber,\" \"RecipeCode,\" and \"CreationTimestamp\" have relatively high standard deviations, indicating a wide spread of values.\n",
    "* \"UserReputation\" has a standard deviation of approximately 10.09, indicating a wide variation in user reputation scores.\n",
    "* Other variables such as \"ReplyCount,\" \"ThumbsUpCount,\" and \"ThumbsDownCount\" have very low standard deviations, suggesting that most observations have very few replies, thumbs up, or thumbs down.\n",
    "\n",
    "4. Min, Max, Quartiles (25%, 50%, 75%):\n",
    "\n",
    "* The quartiles for \"UserReputation\" indicate that the majority of users have a reputation score of 1.\n",
    "* The quartiles for \"Rating\" show that the majority of ratings are 5, as the 25th, 50th, and 75th percentiles are all 5."
   ]
  },
  {
   "cell_type": "code",
   "execution_count": 6,
   "id": "ef9fc94d",
   "metadata": {
    "execution": {
     "iopub.execute_input": "2024-04-11T06:06:46.820168Z",
     "iopub.status.busy": "2024-04-11T06:06:46.819252Z",
     "iopub.status.idle": "2024-04-11T06:06:46.831258Z",
     "shell.execute_reply": "2024-04-11T06:06:46.830152Z"
    },
    "papermill": {
     "duration": 0.027875,
     "end_time": "2024-04-11T06:06:46.833174",
     "exception": false,
     "start_time": "2024-04-11T06:06:46.805299",
     "status": "completed"
    },
    "tags": []
   },
   "outputs": [
    {
     "name": "stdout",
     "output_type": "stream",
     "text": [
      "FeaturesList: ['ID', 'RecipeNumber', 'RecipeCode', 'RecipeName', 'CommentID', 'UserID', 'UserName', 'UserReputation', 'CreationTimestamp', 'ReplyCount', 'ThumbsUpCount', 'ThumbsDownCount', 'BestScore', 'Recipe_Review']\n",
      "Total Features: 14\n"
     ]
    }
   ],
   "source": [
    "#separating Target column from the dataframe\n",
    "target = train_df[\"Rating\"]\n",
    "features = list(train_df.drop(\"Rating\", axis=1).columns.values)\n",
    "print(\"FeaturesList:\", features)\n",
    "print(\"Total Features:\", len(features))"
   ]
  },
  {
   "cell_type": "markdown",
   "id": "788c5b78",
   "metadata": {
    "papermill": {
     "duration": 0.012916,
     "end_time": "2024-04-11T06:06:46.859354",
     "exception": false,
     "start_time": "2024-04-11T06:06:46.846438",
     "status": "completed"
    },
    "tags": []
   },
   "source": [
    "**DATA VISUALISATION**"
   ]
  },
  {
   "cell_type": "code",
   "execution_count": 7,
   "id": "0e829eda",
   "metadata": {
    "execution": {
     "iopub.execute_input": "2024-04-11T06:06:46.887092Z",
     "iopub.status.busy": "2024-04-11T06:06:46.886497Z",
     "iopub.status.idle": "2024-04-11T06:06:49.125859Z",
     "shell.execute_reply": "2024-04-11T06:06:49.124546Z"
    },
    "papermill": {
     "duration": 2.256363,
     "end_time": "2024-04-11T06:06:49.128747",
     "exception": false,
     "start_time": "2024-04-11T06:06:46.872384",
     "status": "completed"
    },
    "tags": []
   },
   "outputs": [
    {
     "data": {
      "text/plain": [
       "array([[<Axes: title={'center': 'ID'}>,\n",
       "        <Axes: title={'center': 'RecipeNumber'}>,\n",
       "        <Axes: title={'center': 'RecipeCode'}>],\n",
       "       [<Axes: title={'center': 'UserReputation'}>,\n",
       "        <Axes: title={'center': 'CreationTimestamp'}>,\n",
       "        <Axes: title={'center': 'ReplyCount'}>],\n",
       "       [<Axes: title={'center': 'ThumbsUpCount'}>,\n",
       "        <Axes: title={'center': 'ThumbsDownCount'}>,\n",
       "        <Axes: title={'center': 'Rating'}>],\n",
       "       [<Axes: title={'center': 'BestScore'}>, <Axes: >, <Axes: >]],\n",
       "      dtype=object)"
      ]
     },
     "execution_count": 7,
     "metadata": {},
     "output_type": "execute_result"
    },
    {
     "data": {
      "image/png": "[encoded data removed]",
      "text/plain": [
       "<Figure size 3000x2400 with 12 Axes>"
      ]
     },
     "metadata": {},
     "output_type": "display_data"
    }
   ],
   "source": [
    "#plotting histogram for each column in the dataset.\n",
    "train_df.hist(figsize=(30,24))"
   ]
  },
  {
   "cell_type": "code",
   "execution_count": 8,
   "id": "0500c5a7",
   "metadata": {
    "execution": {
     "iopub.execute_input": "2024-04-11T06:06:49.159384Z",
     "iopub.status.busy": "2024-04-11T06:06:49.159017Z",
     "iopub.status.idle": "2024-04-11T06:06:49.622205Z",
     "shell.execute_reply": "2024-04-11T06:06:49.621100Z"
    },
    "papermill": {
     "duration": 0.481121,
     "end_time": "2024-04-11T06:06:49.624339",
     "exception": false,
     "start_time": "2024-04-11T06:06:49.143218",
     "status": "completed"
    },
    "tags": []
   },
   "outputs": [
    {
     "data": {
      "image/png": "[encoded data removed]",
      "text/plain": [
       "<Figure size 640x480 with 1 Axes>"
      ]
     },
     "metadata": {},
     "output_type": "display_data"
    }
   ],
   "source": [
    "# Plotting KDE plot for target variable(Rating)\n",
    "sns.kdeplot(train_df[\"Rating\"], fill=True)\n",
    "plt.title('Kernel Density Estimation (KDE) Plot of Ratings')\n",
    "plt.xlabel('Rating')\n",
    "plt.ylabel('Density')\n",
    "plt.show()"
   ]
  },
  {
   "cell_type": "code",
   "execution_count": 9,
   "id": "17cef7bc",
   "metadata": {
    "execution": {
     "iopub.execute_input": "2024-04-11T06:06:49.657371Z",
     "iopub.status.busy": "2024-04-11T06:06:49.656982Z",
     "iopub.status.idle": "2024-04-11T06:06:49.666618Z",
     "shell.execute_reply": "2024-04-11T06:06:49.665156Z"
    },
    "papermill": {
     "duration": 0.029361,
     "end_time": "2024-04-11T06:06:49.669042",
     "exception": false,
     "start_time": "2024-04-11T06:06:49.639681",
     "status": "completed"
    },
    "tags": []
   },
   "outputs": [
    {
     "name": "stdout",
     "output_type": "stream",
     "text": [
      "% of instance belonging to majority class is : 76\n"
     ]
    }
   ],
   "source": [
    "#count the instance of majority class in the train data.\n",
    "print(\"% of instance belonging to majority class is :\",round((len(train_df[train_df[\"Rating\"]==5])/len(train_df))*100))"
   ]
  },
  {
   "cell_type": "code",
   "execution_count": 10,
   "id": "7fba6176",
   "metadata": {
    "execution": {
     "iopub.execute_input": "2024-04-11T06:06:49.700521Z",
     "iopub.status.busy": "2024-04-11T06:06:49.700179Z",
     "iopub.status.idle": "2024-04-11T06:06:49.863367Z",
     "shell.execute_reply": "2024-04-11T06:06:49.861887Z"
    },
    "papermill": {
     "duration": 0.181544,
     "end_time": "2024-04-11T06:06:49.865490",
     "exception": false,
     "start_time": "2024-04-11T06:06:49.683946",
     "status": "completed"
    },
    "tags": []
   },
   "outputs": [
    {
     "data": {
      "image/png": "[encoded data removed]",
      "text/plain": [
       "<Figure size 640x480 with 1 Axes>"
      ]
     },
     "metadata": {},
     "output_type": "display_data"
    }
   ],
   "source": [
    "#plotting Box Plot for UserReputation column\n",
    "plt.boxplot(train_df['UserReputation'])\n",
    "plt.title('Box Plot of ' + 'UserReputation')\n",
    "plt.xlabel('Values')\n",
    "plt.show()\n"
   ]
  },
  {
   "cell_type": "code",
   "execution_count": 11,
   "id": "1526c3ef",
   "metadata": {
    "execution": {
     "iopub.execute_input": "2024-04-11T06:06:49.896300Z",
     "iopub.status.busy": "2024-04-11T06:06:49.895968Z",
     "iopub.status.idle": "2024-04-11T06:06:50.451304Z",
     "shell.execute_reply": "2024-04-11T06:06:50.449526Z"
    },
    "papermill": {
     "duration": 0.5736,
     "end_time": "2024-04-11T06:06:50.453835",
     "exception": false,
     "start_time": "2024-04-11T06:06:49.880235",
     "status": "completed"
    },
    "tags": []
   },
   "outputs": [
    {
     "data": {
      "text/plain": [
       "<Axes: >"
      ]
     },
     "execution_count": 11,
     "metadata": {},
     "output_type": "execute_result"
    },
    {
     "data": {
      "image/png": "[encoded data removed]",
      "text/plain": [
       "<Figure size 1000x600 with 2 Axes>"
      ]
     },
     "metadata": {},
     "output_type": "display_data"
    }
   ],
   "source": [
    "#CORRELATION MATRIX OF DATA\n",
    "numeric = train_df.select_dtypes(include=['int64']).columns\n",
    "corr_matrix = train_df[numeric].corr()\n",
    "plt.figure(figsize=(10,6))\n",
    "sns.heatmap(corr_matrix, annot= True)"
   ]
  },
  {
   "cell_type": "code",
   "execution_count": 12,
   "id": "93449058",
   "metadata": {
    "execution": {
     "iopub.execute_input": "2024-04-11T06:06:50.486653Z",
     "iopub.status.busy": "2024-04-11T06:06:50.486294Z",
     "iopub.status.idle": "2024-04-11T06:06:50.497164Z",
     "shell.execute_reply": "2024-04-11T06:06:50.496237Z"
    },
    "papermill": {
     "duration": 0.029679,
     "end_time": "2024-04-11T06:06:50.499003",
     "exception": false,
     "start_time": "2024-04-11T06:06:50.469324",
     "status": "completed"
    },
    "tags": []
   },
   "outputs": [
    {
     "data": {
      "text/plain": [
       "ID                   0\n",
       "RecipeNumber         0\n",
       "RecipeCode           0\n",
       "RecipeName           0\n",
       "CommentID            0\n",
       "UserID               0\n",
       "UserName             0\n",
       "UserReputation       0\n",
       "CreationTimestamp    0\n",
       "ReplyCount           0\n",
       "ThumbsUpCount        0\n",
       "ThumbsDownCount      0\n",
       "Rating               0\n",
       "BestScore            0\n",
       "Recipe_Review        2\n",
       "dtype: int64"
      ]
     },
     "execution_count": 12,
     "metadata": {},
     "output_type": "execute_result"
    }
   ],
   "source": [
    "#Checking for Missing Values in Dataset\n",
    "train_df.isnull().sum()"
   ]
  },
  {
   "cell_type": "markdown",
   "id": "5ef706fa",
   "metadata": {
    "papermill": {
     "duration": 0.015029,
     "end_time": "2024-04-11T06:06:50.529666",
     "exception": false,
     "start_time": "2024-04-11T06:06:50.514637",
     "status": "completed"
    },
    "tags": []
   },
   "source": [
    "**KEY FINDINGS**\n",
    "* Dataset contains 2 missing values present in Recipe_Review column.\n",
    "* None of the numeric feature shows strong positive or negative correlation with the Target variable by looking at the Correlation heatmap.\n",
    "* Box plot for UserReputaion shows possible outliers.\n",
    "* Dataset is highly imbalanced; about 76% of data belongs to the same majority class.\n",
    "* Rating has 1272 (9.3%) zeros\n",
    " \n",
    "\n"
   ]
  },
  {
   "cell_type": "markdown",
   "id": "6999effc",
   "metadata": {
    "papermill": {
     "duration": 0.015043,
     "end_time": "2024-04-11T06:06:50.560119",
     "exception": false,
     "start_time": "2024-04-11T06:06:50.545076",
     "status": "completed"
    },
    "tags": []
   },
   "source": [
    "# **DATA PREPROCESSING & FEATURE ENGINEERING**"
   ]
  },
  {
   "cell_type": "markdown",
   "id": "eb21e132",
   "metadata": {
    "papermill": {
     "duration": 0.01556,
     "end_time": "2024-04-11T06:06:50.590957",
     "exception": false,
     "start_time": "2024-04-11T06:06:50.575397",
     "status": "completed"
    },
    "tags": []
   },
   "source": [
    "**DEALING WITH OUTLIERS**"
   ]
  },
  {
   "cell_type": "code",
   "execution_count": 13,
   "id": "6a1d777d",
   "metadata": {
    "execution": {
     "iopub.execute_input": "2024-04-11T06:06:50.624575Z",
     "iopub.status.busy": "2024-04-11T06:06:50.623642Z",
     "iopub.status.idle": "2024-04-11T06:06:50.634322Z",
     "shell.execute_reply": "2024-04-11T06:06:50.633479Z"
    },
    "papermill": {
     "duration": 0.029631,
     "end_time": "2024-04-11T06:06:50.636216",
     "exception": false,
     "start_time": "2024-04-11T06:06:50.606585",
     "status": "completed"
    },
    "tags": []
   },
   "outputs": [
    {
     "name": "stdout",
     "output_type": "stream",
     "text": [
      "Outliers :\n",
      " 319      160\n",
      "663      510\n",
      "1646     140\n",
      "2381     220\n",
      "2681     140\n",
      "3423     110\n",
      "6254     130\n",
      "7610     150\n",
      "8218     110\n",
      "10631    110\n",
      "10647    510\n",
      "11161    300\n",
      "13364    510\n",
      "Name: UserReputation, dtype: int64\n"
     ]
    }
   ],
   "source": [
    "#Detecting and removing Outliers\n",
    "\n",
    "from scipy import stats\n",
    "# Calculate z-scores for the column\n",
    "z_scores = np.abs(stats.zscore(train_df['UserReputation']))\n",
    "\n",
    "# Define threshold for identifying outliers\n",
    "threshold = 10\n",
    "\n",
    "# Find indices of outliers\n",
    "outlier_indices = np.where(z_scores > threshold)[0]\n",
    "\n",
    "# Get the actual values of outliers\n",
    "outliers = train_df[\"UserReputation\"].iloc[outlier_indices]\n",
    "\n",
    "print(\"Outliers :\\n\", outliers)\n",
    "\n",
    "# Remove outliers from train_df\n",
    "train_df_cleaned = train_df.drop(outlier_indices)"
   ]
  },
  {
   "cell_type": "markdown",
   "id": "448b1417",
   "metadata": {
    "papermill": {
     "duration": 0.01621,
     "end_time": "2024-04-11T06:06:50.668727",
     "exception": false,
     "start_time": "2024-04-11T06:06:50.652517",
     "status": "completed"
    },
    "tags": []
   },
   "source": [
    "**DEALING WITH MISSING VALUES IN DATAFRAME**"
   ]
  },
  {
   "cell_type": "code",
   "execution_count": 14,
   "id": "7da7b4c2",
   "metadata": {
    "execution": {
     "iopub.execute_input": "2024-04-11T06:06:50.702883Z",
     "iopub.status.busy": "2024-04-11T06:06:50.701745Z",
     "iopub.status.idle": "2024-04-11T06:06:50.721461Z",
     "shell.execute_reply": "2024-04-11T06:06:50.720413Z"
    },
    "papermill": {
     "duration": 0.038614,
     "end_time": "2024-04-11T06:06:50.723421",
     "exception": false,
     "start_time": "2024-04-11T06:06:50.684807",
     "status": "completed"
    },
    "tags": []
   },
   "outputs": [
    {
     "data": {
      "text/plain": [
       "ID                   0\n",
       "RecipeNumber         0\n",
       "RecipeCode           0\n",
       "RecipeName           0\n",
       "CommentID            0\n",
       "UserID               0\n",
       "UserName             0\n",
       "UserReputation       0\n",
       "CreationTimestamp    0\n",
       "ReplyCount           0\n",
       "ThumbsUpCount        0\n",
       "ThumbsDownCount      0\n",
       "Rating               0\n",
       "BestScore            0\n",
       "Recipe_Review        0\n",
       "dtype: int64"
      ]
     },
     "execution_count": 14,
     "metadata": {},
     "output_type": "execute_result"
    }
   ],
   "source": [
    "#imputing the missing value in Recipe_Review column using the strategy = mode\n",
    "\n",
    "train_df_cleaned['Recipe_Review'].fillna(train_df_cleaned['Recipe_Review'].mode()[0], inplace=True)\n",
    "train_df_cleaned.isnull().sum()"
   ]
  },
  {
   "cell_type": "markdown",
   "id": "55a69f6b",
   "metadata": {
    "papermill": {
     "duration": 0.015871,
     "end_time": "2024-04-11T06:06:50.755401",
     "exception": false,
     "start_time": "2024-04-11T06:06:50.739530",
     "status": "completed"
    },
    "tags": []
   },
   "source": [
    "**CREATING NEW FEATURES (DAY, MONTH, YEAR) FROM TIMESTAMP COLUMN**"
   ]
  },
  {
   "cell_type": "code",
   "execution_count": 15,
   "id": "48bc2c77",
   "metadata": {
    "execution": {
     "iopub.execute_input": "2024-04-11T06:06:50.789057Z",
     "iopub.status.busy": "2024-04-11T06:06:50.788674Z",
     "iopub.status.idle": "2024-04-11T06:06:50.816220Z",
     "shell.execute_reply": "2024-04-11T06:06:50.815375Z"
    },
    "papermill": {
     "duration": 0.046652,
     "end_time": "2024-04-11T06:06:50.818198",
     "exception": false,
     "start_time": "2024-04-11T06:06:50.771546",
     "status": "completed"
    },
    "tags": []
   },
   "outputs": [
    {
     "data": {
      "text/html": [
       "<div>\n",
       "<style scoped>\n",
       "    .dataframe tbody tr th:only-of-type {\n",
       "        vertical-align: middle;\n",
       "    }\n",
       "\n",
       "    .dataframe tbody tr th {\n",
       "        vertical-align: top;\n",
       "    }\n",
       "\n",
       "    .dataframe thead th {\n",
       "        text-align: right;\n",
       "    }\n",
       "</style>\n",
       "<table border=\"1\" class=\"dataframe\">\n",
       "  <thead>\n",
       "    <tr style=\"text-align: right;\">\n",
       "      <th></th>\n",
       "      <th>ID</th>\n",
       "      <th>RecipeNumber</th>\n",
       "      <th>RecipeCode</th>\n",
       "      <th>RecipeName</th>\n",
       "      <th>CommentID</th>\n",
       "      <th>UserID</th>\n",
       "      <th>UserName</th>\n",
       "      <th>UserReputation</th>\n",
       "      <th>ReplyCount</th>\n",
       "      <th>ThumbsUpCount</th>\n",
       "      <th>ThumbsDownCount</th>\n",
       "      <th>Rating</th>\n",
       "      <th>BestScore</th>\n",
       "      <th>Recipe_Review</th>\n",
       "      <th>date</th>\n",
       "      <th>month</th>\n",
       "      <th>year</th>\n",
       "    </tr>\n",
       "  </thead>\n",
       "  <tbody>\n",
       "    <tr>\n",
       "      <th>0</th>\n",
       "      <td>70</td>\n",
       "      <td>71</td>\n",
       "      <td>12259</td>\n",
       "      <td>Banana Bars with Cream Cheese Frosting</td>\n",
       "      <td>sp_aUSaElGf_12259_c_149978</td>\n",
       "      <td>u_1oKVaBmiEKwAFyiHrDLoWpbel0J</td>\n",
       "      <td>misscoffeepot</td>\n",
       "      <td>20</td>\n",
       "      <td>0</td>\n",
       "      <td>0</td>\n",
       "      <td>0</td>\n",
       "      <td>5</td>\n",
       "      <td>100</td>\n",
       "      <td>great recipe! I have made them just as written...</td>\n",
       "      <td>3</td>\n",
       "      <td>6</td>\n",
       "      <td>2021</td>\n",
       "    </tr>\n",
       "    <tr>\n",
       "      <th>1</th>\n",
       "      <td>72</td>\n",
       "      <td>88</td>\n",
       "      <td>8202</td>\n",
       "      <td>Simple Taco Soup</td>\n",
       "      <td>sp_aUSaElGf_8202_c_310332</td>\n",
       "      <td>u_1oKZeRIXYzGNhGW8OMR3O4lX1ih</td>\n",
       "      <td>MichelleMalone</td>\n",
       "      <td>1</td>\n",
       "      <td>0</td>\n",
       "      <td>0</td>\n",
       "      <td>1</td>\n",
       "      <td>5</td>\n",
       "      <td>100</td>\n",
       "      <td>This is an easy and quick recipe that is great...</td>\n",
       "      <td>3</td>\n",
       "      <td>6</td>\n",
       "      <td>2021</td>\n",
       "    </tr>\n",
       "    <tr>\n",
       "      <th>2</th>\n",
       "      <td>458</td>\n",
       "      <td>3</td>\n",
       "      <td>2832</td>\n",
       "      <td>Cheeseburger Soup</td>\n",
       "      <td>sp_aUSaElGf_2832_c_206522</td>\n",
       "      <td>u_1oKYHUtdaD48KJCDYq5wfpAUxWz</td>\n",
       "      <td>jeannem32</td>\n",
       "      <td>1</td>\n",
       "      <td>0</td>\n",
       "      <td>0</td>\n",
       "      <td>0</td>\n",
       "      <td>3</td>\n",
       "      <td>100</td>\n",
       "      <td>I think I was looking for something extra spec...</td>\n",
       "      <td>3</td>\n",
       "      <td>6</td>\n",
       "      <td>2021</td>\n",
       "    </tr>\n",
       "    <tr>\n",
       "      <th>3</th>\n",
       "      <td>7</td>\n",
       "      <td>50</td>\n",
       "      <td>100276</td>\n",
       "      <td>Grilled Huli Huli Chicken</td>\n",
       "      <td>sp_aUSaElGf_100276_c_434088</td>\n",
       "      <td>u_1oKZCQcKQZdQhDVBS7oISc216VA</td>\n",
       "      <td>ds422</td>\n",
       "      <td>1</td>\n",
       "      <td>0</td>\n",
       "      <td>0</td>\n",
       "      <td>0</td>\n",
       "      <td>5</td>\n",
       "      <td>100</td>\n",
       "      <td>This is our favorite grilled chicken recipe.  ...</td>\n",
       "      <td>2</td>\n",
       "      <td>6</td>\n",
       "      <td>2021</td>\n",
       "    </tr>\n",
       "    <tr>\n",
       "      <th>4</th>\n",
       "      <td>60</td>\n",
       "      <td>12</td>\n",
       "      <td>19731</td>\n",
       "      <td>Cauliflower Soup</td>\n",
       "      <td>sp_aUSaElGf_19731_c_387011</td>\n",
       "      <td>u_1oKd4sudZQPgu6YALiC7bW7mKMs</td>\n",
       "      <td>SusanHoward</td>\n",
       "      <td>1</td>\n",
       "      <td>0</td>\n",
       "      <td>0</td>\n",
       "      <td>0</td>\n",
       "      <td>4</td>\n",
       "      <td>100</td>\n",
       "      <td>Great basic recipe. I added 2 teaspoons Tuscan...</td>\n",
       "      <td>3</td>\n",
       "      <td>6</td>\n",
       "      <td>2021</td>\n",
       "    </tr>\n",
       "  </tbody>\n",
       "</table>\n",
       "</div>"
      ],
      "text/plain": [
       "    ID  RecipeNumber  RecipeCode                              RecipeName  \\\n",
       "0   70            71       12259  Banana Bars with Cream Cheese Frosting   \n",
       "1   72            88        8202                        Simple Taco Soup   \n",
       "2  458             3        2832                       Cheeseburger Soup   \n",
       "3    7            50      100276               Grilled Huli Huli Chicken   \n",
       "4   60            12       19731                        Cauliflower Soup   \n",
       "\n",
       "                     CommentID                         UserID        UserName  \\\n",
       "0   sp_aUSaElGf_12259_c_149978  u_1oKVaBmiEKwAFyiHrDLoWpbel0J   misscoffeepot   \n",
       "1    sp_aUSaElGf_8202_c_310332  u_1oKZeRIXYzGNhGW8OMR3O4lX1ih  MichelleMalone   \n",
       "2    sp_aUSaElGf_2832_c_206522  u_1oKYHUtdaD48KJCDYq5wfpAUxWz       jeannem32   \n",
       "3  sp_aUSaElGf_100276_c_434088  u_1oKZCQcKQZdQhDVBS7oISc216VA           ds422   \n",
       "4   sp_aUSaElGf_19731_c_387011  u_1oKd4sudZQPgu6YALiC7bW7mKMs     SusanHoward   \n",
       "\n",
       "   UserReputation  ReplyCount  ThumbsUpCount  ThumbsDownCount  Rating  \\\n",
       "0              20           0              0                0       5   \n",
       "1               1           0              0                1       5   \n",
       "2               1           0              0                0       3   \n",
       "3               1           0              0                0       5   \n",
       "4               1           0              0                0       4   \n",
       "\n",
       "   BestScore                                      Recipe_Review  date  month  \\\n",
       "0        100  great recipe! I have made them just as written...     3      6   \n",
       "1        100  This is an easy and quick recipe that is great...     3      6   \n",
       "2        100  I think I was looking for something extra spec...     3      6   \n",
       "3        100  This is our favorite grilled chicken recipe.  ...     2      6   \n",
       "4        100  Great basic recipe. I added 2 teaspoons Tuscan...     3      6   \n",
       "\n",
       "   year  \n",
       "0  2021  \n",
       "1  2021  \n",
       "2  2021  \n",
       "3  2021  \n",
       "4  2021  "
      ]
     },
     "execution_count": 15,
     "metadata": {},
     "output_type": "execute_result"
    }
   ],
   "source": [
    "# Convert timestamp to datetime\n",
    "df = train_df_cleaned.copy()\n",
    "df['datetime'] = pd.to_datetime(df['CreationTimestamp'], unit='s')\n",
    "\n",
    "# Extract date, month, and year into separate columns\n",
    "df['date'] = df['datetime'].dt.day.astype(int)\n",
    "df['month'] = df['datetime'].dt.month.astype(int)\n",
    "df['year'] = df['datetime'].dt.year.astype(int)\n",
    "\n",
    "\n",
    "df = df.drop(columns =['CreationTimestamp','datetime'], axis = 1)\n",
    "df.head()"
   ]
  },
  {
   "cell_type": "code",
   "execution_count": 16,
   "id": "c8de85e9",
   "metadata": {
    "execution": {
     "iopub.execute_input": "2024-04-11T06:06:50.853471Z",
     "iopub.status.busy": "2024-04-11T06:06:50.852410Z",
     "iopub.status.idle": "2024-04-11T06:06:50.867964Z",
     "shell.execute_reply": "2024-04-11T06:06:50.867162Z"
    },
    "papermill": {
     "duration": 0.034753,
     "end_time": "2024-04-11T06:06:50.869838",
     "exception": false,
     "start_time": "2024-04-11T06:06:50.835085",
     "status": "completed"
    },
    "tags": []
   },
   "outputs": [],
   "source": [
    "# Define a function to map months to quarters\n",
    "def get_quarter(month):\n",
    "    if month in range(1, 4):\n",
    "        return 1\n",
    "    elif month in range(4, 7):\n",
    "        return 2\n",
    "    elif month in range(7, 10):\n",
    "        return 3\n",
    "    else:\n",
    "        return 4\n",
    "\n",
    "# Apply the function to create the 'quarter_of_year' column\n",
    "df['quarter_of_year'] = df['month'].apply(get_quarter)"
   ]
  },
  {
   "cell_type": "code",
   "execution_count": 17,
   "id": "db888981",
   "metadata": {
    "execution": {
     "iopub.execute_input": "2024-04-11T06:06:50.904330Z",
     "iopub.status.busy": "2024-04-11T06:06:50.903443Z",
     "iopub.status.idle": "2024-04-11T06:06:51.145477Z",
     "shell.execute_reply": "2024-04-11T06:06:51.144600Z"
    },
    "papermill": {
     "duration": 0.261301,
     "end_time": "2024-04-11T06:06:51.147359",
     "exception": false,
     "start_time": "2024-04-11T06:06:50.886058",
     "status": "completed"
    },
    "tags": []
   },
   "outputs": [
    {
     "data": {
      "image/png": "[encoded data removed]",
      "text/plain": [
       "<Figure size 1000x600 with 1 Axes>"
      ]
     },
     "metadata": {},
     "output_type": "display_data"
    }
   ],
   "source": [
    "# Calculate average rating for each Quarter\n",
    "avg_rating_year = df.groupby('quarter_of_year')['Rating'].mean()\n",
    "\n",
    "# Plotting the trend analysis graph\n",
    "plt.figure(figsize=(10, 6))\n",
    "plt.plot(avg_rating_year.index, avg_rating_year.values, marker='o', linestyle='-')\n",
    "plt.title('Trend Analysis of Recipe Ratings Over the Years')\n",
    "plt.xlabel('Quarters')\n",
    "plt.ylabel('Average Rating')\n",
    "plt.grid(True)\n",
    "plt.xticks(avg_rating_year.index)\n",
    "plt.tight_layout()\n",
    "plt.show()"
   ]
  },
  {
   "cell_type": "markdown",
   "id": "26d1528c",
   "metadata": {
    "papermill": {
     "duration": 0.016662,
     "end_time": "2024-04-11T06:06:51.181135",
     "exception": false,
     "start_time": "2024-04-11T06:06:51.164473",
     "status": "completed"
    },
    "tags": []
   },
   "source": [
    "**DEALING WITH TEXT COLUMN : CLEANING RECIPE_REVIEW COLUMN**"
   ]
  },
  {
   "cell_type": "code",
   "execution_count": 18,
   "id": "23de60e2",
   "metadata": {
    "execution": {
     "iopub.execute_input": "2024-04-11T06:06:51.216816Z",
     "iopub.status.busy": "2024-04-11T06:06:51.216449Z",
     "iopub.status.idle": "2024-04-11T06:06:51.809946Z",
     "shell.execute_reply": "2024-04-11T06:06:51.808987Z"
    },
    "papermill": {
     "duration": 0.6145,
     "end_time": "2024-04-11T06:06:51.812348",
     "exception": false,
     "start_time": "2024-04-11T06:06:51.197848",
     "status": "completed"
    },
    "tags": []
   },
   "outputs": [],
   "source": [
    "#Defining Stop Words\n",
    "\n",
    "STOP_WORDS = {\"i\", \"im\", \"ive\", \"me\", \"my\", \"myself\", \"we\", \"our\", \"ours\", \"ourselves\", \"you\", \"your\", \"yours\", \"yourself\", \"yourselves\", \"he\", \"him\", \"his\", \"himself\", \"she\", \"her\", \"hers\", \"herself\", \"it\", \"its\", \"itself\", \"they\", \"them\", \"their\", \"theirs\", \"themselves\", \"what\", \"which\", \"who\", \"whom\", \"this\", \"that\", \"these\", \"those\", \"am\", \"is\", \"are\", \"was\", \"were\", \"be\", \"been\", \"being\", \"have\", \"has\", \"had\", \"having\", \"do\", \"does\", \"did\", \"doing\", \"a\", \"an\", \"the\", \"and\", \"but\", \"if\", \"or\", \"because\", \"as\", \"until\", \"while\", \"of\", \"at\", \"by\", \"for\", \"with\", \"about\", \"against\", \"between\", \"into\", \"through\", \"during\", \"before\", \"after\", \"above\", \"below\", \"to\", \"from\", \"up\", \"down\", \"in\", \"out\", \"on\", \"off\", \"over\", \"under\", \"again\", \"further\", \"then\", \"once\", \"here\", \"there\", \"when\", \"where\", \"why\", \"how\", \"all\", \"any\", \"both\", \"each\", \"few\", \"more\", \"most\", \"other\", \"some\", \"such\", \"no\", \"nor\", \"not\", \"only\", \"own\", \"same\", \"so\", \"than\", \"too\", \"very\", \"s\", \"t\", \"can\", \"will\", \"just\", \"don\", \"should\", \"now\"}\n",
    "\n",
    "# Define the emoji detection pattern\n",
    "emoji_pattern = re.compile(\"[\"\n",
    "                           u\"\\U0001F600-\\U0001F64F\"  # emoticons\n",
    "                           u\"\\U0001F300-\\U0001F5FF\"  # symbols & pictographs\n",
    "                           u\"\\U0001F680-\\U0001F6FF\"  # transport & map symbols\n",
    "                           u\"\\U0001F700-\\U0001F77F\"  # alchemical symbols\n",
    "                           u\"\\U0001F780-\\U0001F7FF\"  # Geometric Shapes Extended\n",
    "                           u\"\\U0001F800-\\U0001F8FF\"  # Supplemental Arrows-C\n",
    "                           u\"\\U0001F900-\\U0001F9FF\"  # Supplemental Symbols and Pictographs\n",
    "                           u\"\\U0001FA00-\\U0001FA6F\"  # Chess Symbols\n",
    "                           u\"\\U0001FA70-\\U0001FAFF\"  # Symbols and Pictographs Extended-A\n",
    "                           u\"\\U00002702-\\U000027B0\"  # Dingbats\n",
    "                           u\"\\U000024C2-\\U0001F251\" \n",
    "                           u\"\\U0001f926-\\U0001f937\"\n",
    "                           u\"\\U00010000-\\U0010ffff\"\n",
    "                           u\"\\u200d\"\n",
    "                           u\"\\u2640-\\U0001F251\" \n",
    "                           u\"\\u2600-\\u2B55\"\n",
    "                           u\"\\u23cf\"\n",
    "                           u\"\\u23e9\"\n",
    "                           u\"\\u231a\"\n",
    "                           u\"\\u3030\"\n",
    "                           \"]+\", flags=re.UNICODE)\n",
    "\n",
    "def clean(s):\n",
    "    # Step 1: Make the text lowercase\n",
    "    s = str(s).lower()\n",
    "    \n",
    "    # Step 2: Remove punctuation\n",
    "    PUNCT_TO_REMOVE = string.punctuation\n",
    "    s = s.translate(str.maketrans('', '', PUNCT_TO_REMOVE))\n",
    "    \n",
    "    # Step 3: Remove numbers\n",
    "    s = ''.join([i for i in s if not i.isdigit()])\n",
    "    \n",
    "    # Step 4: Remove HTML encoding for apostrophe character (')\n",
    "    s = html.unescape(s)\n",
    "    \n",
    "    # Step 5: Remove extra space\n",
    "    s = \" \".join(s.split())\n",
    "    \n",
    "    # Step 6: Replace 'amp;' with 'and'\n",
    "    s = s.replace('amp', 'and')\n",
    "    \n",
    "    # Step 7: Remove URLs\n",
    "    # Step 7: Remove words containing \"www\" and \"http\"\n",
    "    #s = re.sub(r'\\b\\w*(http|www)\\w*\\b', '', s)\n",
    "    \n",
    "    # Step 7: Remove emojis\n",
    "    s = emoji_pattern.sub(r'', s)\n",
    "    \n",
    "    # Step 8: Remove stop words\n",
    "    s = ' '.join([word for word in s.split() if word not in STOP_WORDS])\n",
    "\n",
    "    return s\n",
    "\n",
    "#applying the above defined function on the dataframe\n",
    "train_df_cleaned[\"Recipe_Review\"] = train_df_cleaned[\"Recipe_Review\"].apply(clean)"
   ]
  },
  {
   "cell_type": "markdown",
   "id": "8e92ec11",
   "metadata": {
    "papermill": {
     "duration": 0.016484,
     "end_time": "2024-04-11T06:06:51.845403",
     "exception": false,
     "start_time": "2024-04-11T06:06:51.828919",
     "status": "completed"
    },
    "tags": []
   },
   "source": [
    "**CREATING WORD CLOUD FOR CLEANED TEXT DATA**"
   ]
  },
  {
   "cell_type": "code",
   "execution_count": 19,
   "id": "747974b7",
   "metadata": {
    "execution": {
     "iopub.execute_input": "2024-04-11T06:06:51.882339Z",
     "iopub.status.busy": "2024-04-11T06:06:51.881914Z",
     "iopub.status.idle": "2024-04-11T06:06:51.887627Z",
     "shell.execute_reply": "2024-04-11T06:06:51.887077Z"
    },
    "papermill": {
     "duration": 0.025959,
     "end_time": "2024-04-11T06:06:51.889323",
     "exception": false,
     "start_time": "2024-04-11T06:06:51.863364",
     "status": "completed"
    },
    "tags": []
   },
   "outputs": [
    {
     "data": {
      "text/plain": [
       "\"from wordcloud import WordCloud\\nimport matplotlib.pyplot as plt\\n\\n# Assuming 'train_df' is your DataFrame containing the 'UserReview' column\\n# Replace 'train_df' with your actual DataFrame variable name\\n\\n# Concatenate all text data in the 'UserReview' column into a single string\\ntext_data = ' '.join(train_df_cleaned['Recipe_Review'])\\n\\n# Create a WordCloud object\\nwordcloud = WordCloud(width=800, height=400, background_color='white').generate(text_data)\\n\\n# Plot the WordCloud\\nplt.figure(figsize=(10, 8))\\nplt.imshow(wordcloud, interpolation='bilinear')\\nplt.axis('off')  # Turn off axis\\nplt.show()\""
      ]
     },
     "execution_count": 19,
     "metadata": {},
     "output_type": "execute_result"
    }
   ],
   "source": [
    "'''from wordcloud import WordCloud\n",
    "import matplotlib.pyplot as plt\n",
    "\n",
    "# Assuming 'train_df' is your DataFrame containing the 'UserReview' column\n",
    "# Replace 'train_df' with your actual DataFrame variable name\n",
    "\n",
    "# Concatenate all text data in the 'UserReview' column into a single string\n",
    "text_data = ' '.join(train_df_cleaned['Recipe_Review'])\n",
    "\n",
    "# Create a WordCloud object\n",
    "wordcloud = WordCloud(width=800, height=400, background_color='white').generate(text_data)\n",
    "\n",
    "# Plot the WordCloud\n",
    "plt.figure(figsize=(10, 8))\n",
    "plt.imshow(wordcloud, interpolation='bilinear')\n",
    "plt.axis('off')  # Turn off axis\n",
    "plt.show()'''\n"
   ]
  },
  {
   "cell_type": "markdown",
   "id": "ee21225d",
   "metadata": {
    "papermill": {
     "duration": 0.016418,
     "end_time": "2024-04-11T06:06:51.922758",
     "exception": false,
     "start_time": "2024-04-11T06:06:51.906340",
     "status": "completed"
    },
    "tags": []
   },
   "source": [
    "**SEPARATING TARGET COLUMN FROM DATASET**"
   ]
  },
  {
   "cell_type": "code",
   "execution_count": 20,
   "id": "988a4296",
   "metadata": {
    "execution": {
     "iopub.execute_input": "2024-04-11T06:06:51.958701Z",
     "iopub.status.busy": "2024-04-11T06:06:51.958099Z",
     "iopub.status.idle": "2024-04-11T06:06:51.964567Z",
     "shell.execute_reply": "2024-04-11T06:06:51.963550Z"
    },
    "papermill": {
     "duration": 0.02699,
     "end_time": "2024-04-11T06:06:51.966439",
     "exception": false,
     "start_time": "2024-04-11T06:06:51.939449",
     "status": "completed"
    },
    "tags": []
   },
   "outputs": [],
   "source": [
    "#SEPARATING TARGET COLUMN FROM DATASET AND DROPPING UNNCECESSARY COLUMNS\n",
    "X = train_df_cleaned.drop(columns=[\"Rating\"], axis = 1)\n",
    "y = train_df_cleaned[\"Rating\"]"
   ]
  },
  {
   "cell_type": "markdown",
   "id": "c1586060",
   "metadata": {
    "papermill": {
     "duration": 0.016337,
     "end_time": "2024-04-11T06:06:51.999622",
     "exception": false,
     "start_time": "2024-04-11T06:06:51.983285",
     "status": "completed"
    },
    "tags": []
   },
   "source": [
    "***SPLITTING THE DATA INTO TRAIN AND VALIDATION SET***"
   ]
  },
  {
   "cell_type": "code",
   "execution_count": 21,
   "id": "211b8415",
   "metadata": {
    "execution": {
     "iopub.execute_input": "2024-04-11T06:06:52.034923Z",
     "iopub.status.busy": "2024-04-11T06:06:52.033839Z",
     "iopub.status.idle": "2024-04-11T06:06:52.045820Z",
     "shell.execute_reply": "2024-04-11T06:06:52.044638Z"
    },
    "papermill": {
     "duration": 0.031646,
     "end_time": "2024-04-11T06:06:52.047756",
     "exception": false,
     "start_time": "2024-04-11T06:06:52.016110",
     "status": "completed"
    },
    "tags": []
   },
   "outputs": [
    {
     "name": "stdout",
     "output_type": "stream",
     "text": [
      "True\n",
      "True\n"
     ]
    }
   ],
   "source": [
    "#splitting the data into train and validation set using Sklearn train_test_split\n",
    "X_train, X_test, y_train, y_test = train_test_split(X, y, test_size = 0.2, random_state=42)\n",
    "\n",
    "#valaidating if the split happened correctly\n",
    "print(X_train.shape[0]==y_train.shape[0])\n",
    "print(X_test.shape[0]==y_test.shape[0])"
   ]
  },
  {
   "cell_type": "markdown",
   "id": "059efe58",
   "metadata": {
    "papermill": {
     "duration": 0.016273,
     "end_time": "2024-04-11T06:06:52.080706",
     "exception": false,
     "start_time": "2024-04-11T06:06:52.064433",
     "status": "completed"
    },
    "tags": []
   },
   "source": [
    "**DEFINING PREPROCESSOR**"
   ]
  },
  {
   "cell_type": "code",
   "execution_count": 22,
   "id": "0c810902",
   "metadata": {
    "execution": {
     "iopub.execute_input": "2024-04-11T06:06:52.115716Z",
     "iopub.status.busy": "2024-04-11T06:06:52.114989Z",
     "iopub.status.idle": "2024-04-11T06:06:53.256218Z",
     "shell.execute_reply": "2024-04-11T06:06:53.255246Z"
    },
    "papermill": {
     "duration": 1.161429,
     "end_time": "2024-04-11T06:06:53.258590",
     "exception": false,
     "start_time": "2024-04-11T06:06:52.097161",
     "status": "completed"
    },
    "tags": []
   },
   "outputs": [],
   "source": [
    "from sklearn.pipeline import Pipeline, FeatureUnion\n",
    "from sklearn.preprocessing import FunctionTransformer\n",
    "from sklearn.compose import ColumnTransformer\n",
    "from sklearn.feature_extraction.text import TfidfVectorizer\n",
    "from lightgbm import LGBMClassifier\n",
    "from sklearn.preprocessing import StandardScaler\n",
    "\n",
    "# Define a pipeline for preprocessing\n",
    "preprocessor = ColumnTransformer(\n",
    "    transformers=[\n",
    "        ('drop_cols', 'drop', ['ID','RecipeName', 'CommentID', 'UserID', 'UserName', 'ReplyCount']),  # Drop unnecessary columns\n",
    "        #('num', StandardScaler(), ['RecipeNumber',\"RecipeCode\", 'UserReputation','CreationTimestamp','ThumbsUpCount','ThumbsDownCount','BestScore']),\n",
    "        ('text', TfidfVectorizer(max_features=800, stop_words='english'), 'Recipe_Review')\n",
    "    ],\n",
    "    remainder='passthrough'\n",
    ")\n",
    "\n"
   ]
  },
  {
   "cell_type": "markdown",
   "id": "ac1899a0",
   "metadata": {
    "papermill": {
     "duration": 0.016804,
     "end_time": "2024-04-11T06:06:53.292888",
     "exception": false,
     "start_time": "2024-04-11T06:06:53.276084",
     "status": "completed"
    },
    "tags": []
   },
   "source": [
    "# **MODEL BUILDING & TRAINING & TESTING THE MODEL**"
   ]
  },
  {
   "cell_type": "code",
   "execution_count": 23,
   "id": "eac9c3e2",
   "metadata": {
    "execution": {
     "iopub.execute_input": "2024-04-11T06:06:53.329569Z",
     "iopub.status.busy": "2024-04-11T06:06:53.329201Z",
     "iopub.status.idle": "2024-04-11T06:06:53.332799Z",
     "shell.execute_reply": "2024-04-11T06:06:53.332201Z"
    },
    "papermill": {
     "duration": 0.023679,
     "end_time": "2024-04-11T06:06:53.334597",
     "exception": false,
     "start_time": "2024-04-11T06:06:53.310918",
     "status": "completed"
    },
    "tags": []
   },
   "outputs": [],
   "source": [
    "#DEFINING A DICTIONARY TO COLLECT ACCURACY SCORE OF THE VARIOUS MODELS\n",
    "accuracy_scores = {}"
   ]
  },
  {
   "cell_type": "markdown",
   "id": "9ff38c0c",
   "metadata": {
    "papermill": {
     "duration": 0.016771,
     "end_time": "2024-04-11T06:06:53.368791",
     "exception": false,
     "start_time": "2024-04-11T06:06:53.352020",
     "status": "completed"
    },
    "tags": []
   },
   "source": [
    "**FITTING BASELINE DUMMY CLASSIFIER ON RAW DATA**"
   ]
  },
  {
   "cell_type": "code",
   "execution_count": 24,
   "id": "2ae818ac",
   "metadata": {
    "execution": {
     "iopub.execute_input": "2024-04-11T06:06:53.405309Z",
     "iopub.status.busy": "2024-04-11T06:06:53.404781Z",
     "iopub.status.idle": "2024-04-11T06:06:53.409811Z",
     "shell.execute_reply": "2024-04-11T06:06:53.409170Z"
    },
    "papermill": {
     "duration": 0.025647,
     "end_time": "2024-04-11T06:06:53.411648",
     "exception": false,
     "start_time": "2024-04-11T06:06:53.386001",
     "status": "completed"
    },
    "tags": []
   },
   "outputs": [
    {
     "data": {
      "text/plain": [
       "'#using DummyClassifier for predicting the ratings\\nmodel = DummyClassifier(strategy = \"most_frequent\")\\nmodel.fit(X_train,y_train)\\ny_pred = model.predict(X_test)\\n\\n# Calculate accuracy score\\naccuracy = accuracy_score(y_test, y_pred)\\nprint(\"Accuracy:\", accuracy)\\n\\naccuracy_scores[\"DummyClassifier\"] = accuracy'"
      ]
     },
     "execution_count": 24,
     "metadata": {},
     "output_type": "execute_result"
    }
   ],
   "source": [
    "'''#using DummyClassifier for predicting the ratings\n",
    "model = DummyClassifier(strategy = \"most_frequent\")\n",
    "model.fit(X_train,y_train)\n",
    "y_pred = model.predict(X_test)\n",
    "\n",
    "# Calculate accuracy score\n",
    "accuracy = accuracy_score(y_test, y_pred)\n",
    "print(\"Accuracy:\", accuracy)\n",
    "\n",
    "accuracy_scores[\"DummyClassifier\"] = accuracy'''"
   ]
  },
  {
   "cell_type": "markdown",
   "id": "7d43af09",
   "metadata": {
    "papermill": {
     "duration": 0.017124,
     "end_time": "2024-04-11T06:06:53.446286",
     "exception": false,
     "start_time": "2024-04-11T06:06:53.429162",
     "status": "completed"
    },
    "tags": []
   },
   "source": [
    "**MODEL 1 - LOGISTIC REGRESSION WITH CROSS VALIDATION AND HYPERPARAMETER TUNING**"
   ]
  },
  {
   "cell_type": "code",
   "execution_count": 25,
   "id": "8b4fa619",
   "metadata": {
    "execution": {
     "iopub.execute_input": "2024-04-11T06:06:53.484329Z",
     "iopub.status.busy": "2024-04-11T06:06:53.483592Z",
     "iopub.status.idle": "2024-04-11T06:06:53.489369Z",
     "shell.execute_reply": "2024-04-11T06:06:53.488684Z"
    },
    "papermill": {
     "duration": 0.027194,
     "end_time": "2024-04-11T06:06:53.491488",
     "exception": false,
     "start_time": "2024-04-11T06:06:53.464294",
     "status": "completed"
    },
    "tags": []
   },
   "outputs": [
    {
     "data": {
      "text/plain": [
       "'from sklearn.model_selection import GridSearchCV\\nfrom sklearn.linear_model import LogisticRegression\\n\\n\\n# Define the hyperparameter grid\\nparam_grid = {\\n    \\'model__C\\': [0.1, 1, 10],  # Regularization parameter\\n    \\'model__penalty\\': [\\'l2\\'],  # Penalty norm\\n}\\n\\n# Define the model\\nmodel = LogisticRegression(max_iter=1000)\\n\\n# Create a pipeline\\npipeline = Pipeline([\\n    (\\'preprocessor\\', preprocessor),\\n    (\\'model\\', model)\\n])\\n\\n# Create GridSearchCV\\ngrid_search = GridSearchCV(pipeline, param_grid, cv=5, scoring=\\'accuracy\\')\\n\\n# Fit GridSearchCV\\ngrid_search.fit(X_train, y_train)\\n\\n# Get the best model\\nbest_model = grid_search.best_estimator_\\n\\n# Make predictions\\ny_pred = best_model.predict(X_test)\\n\\n# Calculate accuracy score\\naccuracy = accuracy_score(y_test, y_pred)\\nprint(\"Accuracy:\", accuracy)\\n\\n# Store accuracy score\\naccuracy_scores[\"LogisticRegression\"] = accuracy'"
      ]
     },
     "execution_count": 25,
     "metadata": {},
     "output_type": "execute_result"
    }
   ],
   "source": [
    "'''from sklearn.model_selection import GridSearchCV\n",
    "from sklearn.linear_model import LogisticRegression\n",
    "\n",
    "\n",
    "# Define the hyperparameter grid\n",
    "param_grid = {\n",
    "    'model__C': [0.1, 1, 10],  # Regularization parameter\n",
    "    'model__penalty': ['l2'],  # Penalty norm\n",
    "}\n",
    "\n",
    "# Define the model\n",
    "model = LogisticRegression(max_iter=1000)\n",
    "\n",
    "# Create a pipeline\n",
    "pipeline = Pipeline([\n",
    "    ('preprocessor', preprocessor),\n",
    "    ('model', model)\n",
    "])\n",
    "\n",
    "# Create GridSearchCV\n",
    "grid_search = GridSearchCV(pipeline, param_grid, cv=5, scoring='accuracy')\n",
    "\n",
    "# Fit GridSearchCV\n",
    "grid_search.fit(X_train, y_train)\n",
    "\n",
    "# Get the best model\n",
    "best_model = grid_search.best_estimator_\n",
    "\n",
    "# Make predictions\n",
    "y_pred = best_model.predict(X_test)\n",
    "\n",
    "# Calculate accuracy score\n",
    "accuracy = accuracy_score(y_test, y_pred)\n",
    "print(\"Accuracy:\", accuracy)\n",
    "\n",
    "# Store accuracy score\n",
    "accuracy_scores[\"LogisticRegression\"] = accuracy'''"
   ]
  },
  {
   "cell_type": "markdown",
   "id": "bb816af0",
   "metadata": {
    "papermill": {
     "duration": 0.01681,
     "end_time": "2024-04-11T06:06:53.525842",
     "exception": false,
     "start_time": "2024-04-11T06:06:53.509032",
     "status": "completed"
    },
    "tags": []
   },
   "source": [
    "**MODEL 2 - RANDOMFOREST CLASSIFIER**"
   ]
  },
  {
   "cell_type": "code",
   "execution_count": 26,
   "id": "2632670a",
   "metadata": {
    "execution": {
     "iopub.execute_input": "2024-04-11T06:06:53.563166Z",
     "iopub.status.busy": "2024-04-11T06:06:53.562459Z",
     "iopub.status.idle": "2024-04-11T06:06:53.569236Z",
     "shell.execute_reply": "2024-04-11T06:06:53.568224Z"
    },
    "papermill": {
     "duration": 0.028245,
     "end_time": "2024-04-11T06:06:53.571121",
     "exception": false,
     "start_time": "2024-04-11T06:06:53.542876",
     "status": "completed"
    },
    "tags": []
   },
   "outputs": [
    {
     "data": {
      "text/plain": [
       "'from sklearn.ensemble import RandomForestClassifier\\n# Define the model\\nmodel = RandomForestClassifier()\\n\\n# Create a pipeline\\npipeline = Pipeline([\\n    (\\'preprocessor\\', preprocessor),\\n    (\\'model\\', model)\\n])\\n\\n# Fit the pipeline\\npipeline.fit(X_train, y_train)\\n\\n# Make predictions\\ny_pred = pipeline.predict(X_test)\\n\\n# Calculate accuracy score\\naccuracy = accuracy_score(y_test, y_pred)\\nprint(\"Accuracy:\", accuracy)\\n\\naccuracy_scores[\"RandomForest\"] = accuracy'"
      ]
     },
     "execution_count": 26,
     "metadata": {},
     "output_type": "execute_result"
    }
   ],
   "source": [
    "'''from sklearn.ensemble import RandomForestClassifier\n",
    "# Define the model\n",
    "model = RandomForestClassifier()\n",
    "\n",
    "# Create a pipeline\n",
    "pipeline = Pipeline([\n",
    "    ('preprocessor', preprocessor),\n",
    "    ('model', model)\n",
    "])\n",
    "\n",
    "# Fit the pipeline\n",
    "pipeline.fit(X_train, y_train)\n",
    "\n",
    "# Make predictions\n",
    "y_pred = pipeline.predict(X_test)\n",
    "\n",
    "# Calculate accuracy score\n",
    "accuracy = accuracy_score(y_test, y_pred)\n",
    "print(\"Accuracy:\", accuracy)\n",
    "\n",
    "accuracy_scores[\"RandomForest\"] = accuracy'''"
   ]
  },
  {
   "cell_type": "markdown",
   "id": "1364c5fb",
   "metadata": {
    "papermill": {
     "duration": 0.016867,
     "end_time": "2024-04-11T06:06:53.605605",
     "exception": false,
     "start_time": "2024-04-11T06:06:53.588738",
     "status": "completed"
    },
    "tags": []
   },
   "source": [
    "**MODEL 3 - KNN CLASSIFIER**"
   ]
  },
  {
   "cell_type": "code",
   "execution_count": 27,
   "id": "b3ea4678",
   "metadata": {
    "execution": {
     "iopub.execute_input": "2024-04-11T06:06:53.642695Z",
     "iopub.status.busy": "2024-04-11T06:06:53.641610Z",
     "iopub.status.idle": "2024-04-11T06:06:53.647486Z",
     "shell.execute_reply": "2024-04-11T06:06:53.646828Z"
    },
    "papermill": {
     "duration": 0.026097,
     "end_time": "2024-04-11T06:06:53.649115",
     "exception": false,
     "start_time": "2024-04-11T06:06:53.623018",
     "status": "completed"
    },
    "tags": []
   },
   "outputs": [
    {
     "data": {
      "text/plain": [
       "'from sklearn.neighbors import KNeighborsClassifier\\n\\n# Define the model\\nmodel = KNeighborsClassifier()\\n\\n# Create a pipeline\\npipeline = Pipeline([\\n    (\\'preprocessor\\', preprocessor),\\n    (\\'model\\', model)\\n])\\n\\n# Fit the pipeline\\npipeline.fit(X_train, y_train)\\n\\n# Make predictions\\ny_pred = pipeline.predict(X_test)\\n\\n# Calculate accuracy score\\naccuracy = accuracy_score(y_test, y_pred)\\nprint(\"Accuracy:\", accuracy)\\n\\naccuracy_scores[\"KNN\"] = accuracy'"
      ]
     },
     "execution_count": 27,
     "metadata": {},
     "output_type": "execute_result"
    }
   ],
   "source": [
    "'''from sklearn.neighbors import KNeighborsClassifier\n",
    "\n",
    "# Define the model\n",
    "model = KNeighborsClassifier()\n",
    "\n",
    "# Create a pipeline\n",
    "pipeline = Pipeline([\n",
    "    ('preprocessor', preprocessor),\n",
    "    ('model', model)\n",
    "])\n",
    "\n",
    "# Fit the pipeline\n",
    "pipeline.fit(X_train, y_train)\n",
    "\n",
    "# Make predictions\n",
    "y_pred = pipeline.predict(X_test)\n",
    "\n",
    "# Calculate accuracy score\n",
    "accuracy = accuracy_score(y_test, y_pred)\n",
    "print(\"Accuracy:\", accuracy)\n",
    "\n",
    "accuracy_scores[\"KNN\"] = accuracy'''"
   ]
  },
  {
   "cell_type": "markdown",
   "id": "b3e81a06",
   "metadata": {
    "papermill": {
     "duration": 0.017522,
     "end_time": "2024-04-11T06:06:53.683882",
     "exception": false,
     "start_time": "2024-04-11T06:06:53.666360",
     "status": "completed"
    },
    "tags": []
   },
   "source": [
    "**MODEL 4 - SVM Classifier**"
   ]
  },
  {
   "cell_type": "code",
   "execution_count": 28,
   "id": "1c347272",
   "metadata": {
    "execution": {
     "iopub.execute_input": "2024-04-11T06:06:53.720167Z",
     "iopub.status.busy": "2024-04-11T06:06:53.719702Z",
     "iopub.status.idle": "2024-04-11T06:06:53.727392Z",
     "shell.execute_reply": "2024-04-11T06:06:53.726203Z"
    },
    "papermill": {
     "duration": 0.028452,
     "end_time": "2024-04-11T06:06:53.729552",
     "exception": false,
     "start_time": "2024-04-11T06:06:53.701100",
     "status": "completed"
    },
    "tags": []
   },
   "outputs": [
    {
     "data": {
      "text/plain": [
       "'from sklearn.svm import SVC\\n# Define the model\\nmodel = SVC(kernel=\\'rbf\\', random_state=42)\\n\\n# Create a pipeline\\npipeline = Pipeline([\\n    (\\'preprocessor\\', preprocessor),\\n    (\\'model\\', model)\\n])\\n\\n# Fit the pipeline\\npipeline.fit(X_train, y_train)\\n\\n# Make predictions\\ny_pred = pipeline.predict(X_test)\\n\\n# Calculate accuracy score\\naccuracy = accuracy_score(y_test, y_pred)\\nprint(\"Accuracy:\", accuracy)\\n\\naccuracy_scores[\"SVM Classifer\"] = accuracy'"
      ]
     },
     "execution_count": 28,
     "metadata": {},
     "output_type": "execute_result"
    }
   ],
   "source": [
    "'''from sklearn.svm import SVC\n",
    "# Define the model\n",
    "model = SVC(kernel='rbf', random_state=42)\n",
    "\n",
    "# Create a pipeline\n",
    "pipeline = Pipeline([\n",
    "    ('preprocessor', preprocessor),\n",
    "    ('model', model)\n",
    "])\n",
    "\n",
    "# Fit the pipeline\n",
    "pipeline.fit(X_train, y_train)\n",
    "\n",
    "# Make predictions\n",
    "y_pred = pipeline.predict(X_test)\n",
    "\n",
    "# Calculate accuracy score\n",
    "accuracy = accuracy_score(y_test, y_pred)\n",
    "print(\"Accuracy:\", accuracy)\n",
    "\n",
    "accuracy_scores[\"SVM Classifer\"] = accuracy'''"
   ]
  },
  {
   "cell_type": "markdown",
   "id": "1db86c11",
   "metadata": {
    "papermill": {
     "duration": 0.016944,
     "end_time": "2024-04-11T06:06:53.763821",
     "exception": false,
     "start_time": "2024-04-11T06:06:53.746877",
     "status": "completed"
    },
    "tags": []
   },
   "source": [
    "**MODEL 5 - BAGGING CLASSIFIER WITH RANDOMFOREST AS BASE MODEL**"
   ]
  },
  {
   "cell_type": "code",
   "execution_count": 29,
   "id": "f8f1cee3",
   "metadata": {
    "execution": {
     "iopub.execute_input": "2024-04-11T06:06:53.800589Z",
     "iopub.status.busy": "2024-04-11T06:06:53.799293Z",
     "iopub.status.idle": "2024-04-11T06:06:53.805750Z",
     "shell.execute_reply": "2024-04-11T06:06:53.805044Z"
    },
    "papermill": {
     "duration": 0.026228,
     "end_time": "2024-04-11T06:06:53.807457",
     "exception": false,
     "start_time": "2024-04-11T06:06:53.781229",
     "status": "completed"
    },
    "tags": []
   },
   "outputs": [
    {
     "data": {
      "text/plain": [
       "'from sklearn.ensemble import BaggingClassifier\\n\\n# Define the base model\\nbase_model = RandomForestClassifier()  # or any other classifier of your choice\\n\\n# Define the Bagging Classifier with the base model\\nmodel = BaggingClassifier(base_model)\\n\\n# Create a pipeline\\npipeline = Pipeline([\\n    (\\'preprocessor\\', preprocessor),\\n    (\\'model\\', model)\\n])\\n\\n# Fit the pipeline\\npipeline.fit(X_train, y_train)\\n\\n# Make predictions\\ny_pred = pipeline.predict(X_test)\\n\\n# Calculate accuracy score\\naccuracy = accuracy_score(y_test, y_pred)\\nprint(\"Accuracy:\", accuracy)\\n\\naccuracy_scores[\"BaggingClassifier\"] = accuracy'"
      ]
     },
     "execution_count": 29,
     "metadata": {},
     "output_type": "execute_result"
    }
   ],
   "source": [
    "'''from sklearn.ensemble import BaggingClassifier\n",
    "\n",
    "# Define the base model\n",
    "base_model = RandomForestClassifier()  # or any other classifier of your choice\n",
    "\n",
    "# Define the Bagging Classifier with the base model\n",
    "model = BaggingClassifier(base_model)\n",
    "\n",
    "# Create a pipeline\n",
    "pipeline = Pipeline([\n",
    "    ('preprocessor', preprocessor),\n",
    "    ('model', model)\n",
    "])\n",
    "\n",
    "# Fit the pipeline\n",
    "pipeline.fit(X_train, y_train)\n",
    "\n",
    "# Make predictions\n",
    "y_pred = pipeline.predict(X_test)\n",
    "\n",
    "# Calculate accuracy score\n",
    "accuracy = accuracy_score(y_test, y_pred)\n",
    "print(\"Accuracy:\", accuracy)\n",
    "\n",
    "accuracy_scores[\"BaggingClassifier\"] = accuracy'''"
   ]
  },
  {
   "cell_type": "markdown",
   "id": "ad327a3a",
   "metadata": {
    "papermill": {
     "duration": 0.01691,
     "end_time": "2024-04-11T06:06:53.841554",
     "exception": false,
     "start_time": "2024-04-11T06:06:53.824644",
     "status": "completed"
    },
    "tags": []
   },
   "source": [
    "**MODEL 6 -  LGBM CLASSIFIER**"
   ]
  },
  {
   "cell_type": "code",
   "execution_count": 30,
   "id": "844374f4",
   "metadata": {
    "execution": {
     "iopub.execute_input": "2024-04-11T06:06:53.878281Z",
     "iopub.status.busy": "2024-04-11T06:06:53.877438Z",
     "iopub.status.idle": "2024-04-11T06:06:53.882578Z",
     "shell.execute_reply": "2024-04-11T06:06:53.882001Z"
    },
    "papermill": {
     "duration": 0.025475,
     "end_time": "2024-04-11T06:06:53.884326",
     "exception": false,
     "start_time": "2024-04-11T06:06:53.858851",
     "status": "completed"
    },
    "tags": []
   },
   "outputs": [
    {
     "data": {
      "text/plain": [
       "'from lightgbm import LGBMClassifier\\n\\n# Define the model\\nmodel = LGBMClassifier(random_state=42)\\n\\n# Create a pipeline\\npipeline = Pipeline([\\n    (\\'preprocessor\\', preprocessor),\\n    (\\'model\\', model)\\n])\\n\\n# Fit the pipeline\\npipeline.fit(X_train, y_train)\\n\\n# Make predictions\\ny_pred = pipeline.predict(X_test)\\n\\n# Calculate accuracy score\\naccuracy = accuracy_score(y_test, y_pred)\\nprint(\"Accuracy:\", accuracy)\\n\\naccuracy_scores[\"LGBM Classifier\"] = accuracy'"
      ]
     },
     "execution_count": 30,
     "metadata": {},
     "output_type": "execute_result"
    }
   ],
   "source": [
    "'''from lightgbm import LGBMClassifier\n",
    "\n",
    "# Define the model\n",
    "model = LGBMClassifier(random_state=42)\n",
    "\n",
    "# Create a pipeline\n",
    "pipeline = Pipeline([\n",
    "    ('preprocessor', preprocessor),\n",
    "    ('model', model)\n",
    "])\n",
    "\n",
    "# Fit the pipeline\n",
    "pipeline.fit(X_train, y_train)\n",
    "\n",
    "# Make predictions\n",
    "y_pred = pipeline.predict(X_test)\n",
    "\n",
    "# Calculate accuracy score\n",
    "accuracy = accuracy_score(y_test, y_pred)\n",
    "print(\"Accuracy:\", accuracy)\n",
    "\n",
    "accuracy_scores[\"LGBM Classifier\"] = accuracy'''"
   ]
  },
  {
   "cell_type": "markdown",
   "id": "91f304e8",
   "metadata": {
    "papermill": {
     "duration": 0.017431,
     "end_time": "2024-04-11T06:06:53.919968",
     "exception": false,
     "start_time": "2024-04-11T06:06:53.902537",
     "status": "completed"
    },
    "tags": []
   },
   "source": [
    "# **HYPERPARAMETER TUNING FOR LGBM CLASSIFIER**"
   ]
  },
  {
   "cell_type": "code",
   "execution_count": 31,
   "id": "a07cfd2e",
   "metadata": {
    "execution": {
     "iopub.execute_input": "2024-04-11T06:06:53.957040Z",
     "iopub.status.busy": "2024-04-11T06:06:53.955983Z",
     "iopub.status.idle": "2024-04-11T06:06:53.961938Z",
     "shell.execute_reply": "2024-04-11T06:06:53.961054Z"
    },
    "papermill": {
     "duration": 0.026131,
     "end_time": "2024-04-11T06:06:53.963554",
     "exception": false,
     "start_time": "2024-04-11T06:06:53.937423",
     "status": "completed"
    },
    "tags": []
   },
   "outputs": [
    {
     "data": {
      "text/plain": [
       "'from lightgbm import LGBMClassifier\\nfrom sklearn.model_selection import GridSearchCV\\n\\n# Define the model\\nmodel = LGBMClassifier(random_state=42)\\n\\n# Create a pipeline\\npipeline = Pipeline([\\n    (\\'preprocessor\\', preprocessor),\\n    (\\'clf\\', model)\\n])\\n\\nparam_grid = {\\n    \\'clf__n_estimators\\': [50, 100, 200],\\n    \\'clf__learning_rate\\': [0.01, 0.1, 0.2],\\n    \\'clf__max_depth\\': [-1, 3, 5],\\n    \\'clf__num_leaves\\': [20, 30, 31, 40],\\n    \\'clf__min_child_samples\\': [20, 50]\\n}\\n\\n# Perform GridSearchCV\\ngrid_search = GridSearchCV(pipeline, param_grid, cv=5, n_jobs=-1)\\ngrid_search.fit(X_train, y_train)\\n\\n# Print best parameters\\nprint(\"Best parameters found:\")\\nprint(grid_search.best_params_)'"
      ]
     },
     "execution_count": 31,
     "metadata": {},
     "output_type": "execute_result"
    }
   ],
   "source": [
    "'''from lightgbm import LGBMClassifier\n",
    "from sklearn.model_selection import GridSearchCV\n",
    "\n",
    "# Define the model\n",
    "model = LGBMClassifier(random_state=42)\n",
    "\n",
    "# Create a pipeline\n",
    "pipeline = Pipeline([\n",
    "    ('preprocessor', preprocessor),\n",
    "    ('clf', model)\n",
    "])\n",
    "\n",
    "param_grid = {\n",
    "    'clf__n_estimators': [50, 100, 200],\n",
    "    'clf__learning_rate': [0.01, 0.1, 0.2],\n",
    "    'clf__max_depth': [-1, 3, 5],\n",
    "    'clf__num_leaves': [20, 30, 31, 40],\n",
    "    'clf__min_child_samples': [20, 50]\n",
    "}\n",
    "\n",
    "# Perform GridSearchCV\n",
    "grid_search = GridSearchCV(pipeline, param_grid, cv=5, n_jobs=-1)\n",
    "grid_search.fit(X_train, y_train)\n",
    "\n",
    "# Print best parameters\n",
    "print(\"Best parameters found:\")\n",
    "print(grid_search.best_params_)'''"
   ]
  },
  {
   "cell_type": "markdown",
   "id": "8434b75f",
   "metadata": {
    "papermill": {
     "duration": 0.017431,
     "end_time": "2024-04-11T06:06:53.998837",
     "exception": false,
     "start_time": "2024-04-11T06:06:53.981406",
     "status": "completed"
    },
    "tags": []
   },
   "source": [
    "**Best parameters found:\n",
    "{'clf__learning_rate': 0.1, 'clf__max_depth': -1, 'clf__min_child_samples': 20, 'clf__n_estimators': 100, 'clf__num_leaves': 40**"
   ]
  },
  {
   "cell_type": "markdown",
   "id": "d715f020",
   "metadata": {
    "papermill": {
     "duration": 0.01709,
     "end_time": "2024-04-11T06:06:54.033316",
     "exception": false,
     "start_time": "2024-04-11T06:06:54.016226",
     "status": "completed"
    },
    "tags": []
   },
   "source": [
    "**LGBM WITH HYPERPARAMETERS**"
   ]
  },
  {
   "cell_type": "code",
   "execution_count": 32,
   "id": "844c5248",
   "metadata": {
    "execution": {
     "iopub.execute_input": "2024-04-11T06:06:54.069337Z",
     "iopub.status.busy": "2024-04-11T06:06:54.069043Z",
     "iopub.status.idle": "2024-04-11T06:06:54.074704Z",
     "shell.execute_reply": "2024-04-11T06:06:54.073485Z"
    },
    "papermill": {
     "duration": 0.025845,
     "end_time": "2024-04-11T06:06:54.076378",
     "exception": false,
     "start_time": "2024-04-11T06:06:54.050533",
     "status": "completed"
    },
    "tags": []
   },
   "outputs": [
    {
     "data": {
      "text/plain": [
       "'from lightgbm import LGBMClassifier\\n\\n# Define the model\\nmodel = LGBMClassifier(learning_rate = 0.1, max_depth= -1, min_child_samples = 20, n_estimators = 100, num_leaves = 40,random_state=42)\\n\\n# Create a pipeline\\npipeline = Pipeline([\\n    (\\'preprocessor\\', preprocessor),\\n    (\\'model\\', model)\\n])\\n\\n# Fit the pipeline\\npipeline.fit(X_train, y_train)\\n\\n# Make predictions\\ny_pred = pipeline.predict(X_test)\\n\\n# Calculate accuracy score\\naccuracy = accuracy_score(y_test, y_pred)\\nprint(\"Accuracy:\", accuracy)\\n\\naccuracy_scores[\"LGBM_HPT Classifier\"] = accuracy'"
      ]
     },
     "execution_count": 32,
     "metadata": {},
     "output_type": "execute_result"
    }
   ],
   "source": [
    "'''from lightgbm import LGBMClassifier\n",
    "\n",
    "# Define the model\n",
    "model = LGBMClassifier(learning_rate = 0.1, max_depth= -1, min_child_samples = 20, n_estimators = 100, num_leaves = 40,random_state=42)\n",
    "\n",
    "# Create a pipeline\n",
    "pipeline = Pipeline([\n",
    "    ('preprocessor', preprocessor),\n",
    "    ('model', model)\n",
    "])\n",
    "\n",
    "# Fit the pipeline\n",
    "pipeline.fit(X_train, y_train)\n",
    "\n",
    "# Make predictions\n",
    "y_pred = pipeline.predict(X_test)\n",
    "\n",
    "# Calculate accuracy score\n",
    "accuracy = accuracy_score(y_test, y_pred)\n",
    "print(\"Accuracy:\", accuracy)\n",
    "\n",
    "accuracy_scores[\"LGBM_HPT Classifier\"] = accuracy'''"
   ]
  },
  {
   "cell_type": "markdown",
   "id": "baf9a1b5",
   "metadata": {
    "papermill": {
     "duration": 0.017184,
     "end_time": "2024-04-11T06:06:54.111145",
     "exception": false,
     "start_time": "2024-04-11T06:06:54.093961",
     "status": "completed"
    },
    "tags": []
   },
   "source": [
    "**ACCURACY SCORE FOR EACH MODELS**\n",
    "*  'DummyClassifier': 0.7486238532110092,\n",
    "*  'LogisticRegression': 0.7625688073394495,\n",
    "*  'RandomForest': 0.7640366972477064,\n",
    "*  'SVM Classifer': 0.7508256880733944,\n",
    "*  'KNN': 0.7295412844036697,\n",
    "*  'BaggingClassifier': 0.756697247706422,\n",
    "*  'LGBM Classifier': 0.7728440366972477"
   ]
  },
  {
   "cell_type": "code",
   "execution_count": 33,
   "id": "bd6e49fd",
   "metadata": {
    "execution": {
     "iopub.execute_input": "2024-04-11T06:06:54.148039Z",
     "iopub.status.busy": "2024-04-11T06:06:54.147706Z",
     "iopub.status.idle": "2024-04-11T06:06:54.575945Z",
     "shell.execute_reply": "2024-04-11T06:06:54.575103Z"
    },
    "papermill": {
     "duration": 0.449064,
     "end_time": "2024-04-11T06:06:54.577703",
     "exception": false,
     "start_time": "2024-04-11T06:06:54.128639",
     "status": "completed"
    },
    "tags": []
   },
   "outputs": [
    {
     "data": {
      "image/png": "[encoded data removed]",
      "text/plain": [
       "<Figure size 1200x600 with 1 Axes>"
      ]
     },
     "metadata": {},
     "output_type": "display_data"
    }
   ],
   "source": [
    "Accuracies = {'DummyClassifier': 0.7486238532110092,\n",
    "             'LogisticRegression': 0.7625688073394495,\n",
    "             'RandomForest': 0.7640366972477064,\n",
    "             'SVM Classifer': 0.7508256880733944,\n",
    "             'KNN': 0.7295412844036697,\n",
    "             'BaggingClassifier': 0.756697247706422,\n",
    "             'LGBM Classifier': 0.7728440366972477,\n",
    "             'LGBM_HPT Classifier' : 0.7721100917431193}\n",
    "\n",
    "plt.figure(figsize=(12, 6))\n",
    "plt.scatter(list(Accuracies.keys()), list(Accuracies.values()), label='Accuracies', marker='o', color='blue')\n",
    "plt.ylim(0.70, 0.80)\n",
    "plt.xlabel('Models')\n",
    "plt.ylabel('Accuracies')\n",
    "plt.title('Scatter Plot of Accuracies')\n",
    "plt.xticks(rotation=45, ha='right')\n",
    "plt.legend()\n",
    "plt.tight_layout()\n",
    "plt.show()\n"
   ]
  },
  {
   "cell_type": "markdown",
   "id": "87d0f706",
   "metadata": {
    "papermill": {
     "duration": 0.018735,
     "end_time": "2024-04-11T06:06:54.615204",
     "exception": false,
     "start_time": "2024-04-11T06:06:54.596469",
     "status": "completed"
    },
    "tags": []
   },
   "source": [
    "**PLOTTING CLASS-SPECIFIC PERFORMANCE CURVE**"
   ]
  },
  {
   "cell_type": "code",
   "execution_count": 34,
   "id": "e7df478c",
   "metadata": {
    "execution": {
     "iopub.execute_input": "2024-04-11T06:06:54.654970Z",
     "iopub.status.busy": "2024-04-11T06:06:54.654583Z",
     "iopub.status.idle": "2024-04-11T06:06:54.660958Z",
     "shell.execute_reply": "2024-04-11T06:06:54.659735Z"
    },
    "papermill": {
     "duration": 0.028959,
     "end_time": "2024-04-11T06:06:54.663365",
     "exception": false,
     "start_time": "2024-04-11T06:06:54.634406",
     "status": "completed"
    },
    "tags": []
   },
   "outputs": [
    {
     "data": {
      "text/plain": [
       "'from sklearn.metrics import precision_recall_curve, average_precision_score\\nimport matplotlib.pyplot as plt\\n\\n# Assuming y_test contains the true labels and y_score contains the predicted probabilities for each class\\ny_score = pipeline.predict_proba(X_test)\\n\\n# Compute precision-recall curve and area for each class\\nprecision = dict()\\nrecall = dict()\\naverage_precision = dict()\\nfor i in range(len(model.classes_)):\\n    precision[i], recall[i], _ = precision_recall_curve(y_test == model.classes_[i], y_score[:, i])\\n    average_precision[i] = average_precision_score(y_test == model.classes_[i], y_score[:, i])\\n\\n# Plot precision-recall curve for each class\\nplt.figure(figsize=(8, 6))\\nfor i in range(len(model.classes_)):\\n    plt.plot(recall[i], precision[i], lw=2, label=\\'Precision-recall curve (class %d, AP = %0.2f)\\' % (i, average_precision[i]))\\n\\nplt.xlabel(\\'Recall\\')\\nplt.ylabel(\\'Precision\\')\\nplt.title(\\'Class-Specific Precision-Recall Curve\\')\\nplt.legend(loc=\"best\")\\nplt.show()'"
      ]
     },
     "execution_count": 34,
     "metadata": {},
     "output_type": "execute_result"
    }
   ],
   "source": [
    "'''from sklearn.metrics import precision_recall_curve, average_precision_score\n",
    "import matplotlib.pyplot as plt\n",
    "\n",
    "# Assuming y_test contains the true labels and y_score contains the predicted probabilities for each class\n",
    "y_score = pipeline.predict_proba(X_test)\n",
    "\n",
    "# Compute precision-recall curve and area for each class\n",
    "precision = dict()\n",
    "recall = dict()\n",
    "average_precision = dict()\n",
    "for i in range(len(model.classes_)):\n",
    "    precision[i], recall[i], _ = precision_recall_curve(y_test == model.classes_[i], y_score[:, i])\n",
    "    average_precision[i] = average_precision_score(y_test == model.classes_[i], y_score[:, i])\n",
    "\n",
    "# Plot precision-recall curve for each class\n",
    "plt.figure(figsize=(8, 6))\n",
    "for i in range(len(model.classes_)):\n",
    "    plt.plot(recall[i], precision[i], lw=2, label='Precision-recall curve (class %d, AP = %0.2f)' % (i, average_precision[i]))\n",
    "\n",
    "plt.xlabel('Recall')\n",
    "plt.ylabel('Precision')\n",
    "plt.title('Class-Specific Precision-Recall Curve')\n",
    "plt.legend(loc=\"best\")\n",
    "plt.show()'''\n"
   ]
  },
  {
   "cell_type": "markdown",
   "id": "aa662d0d",
   "metadata": {
    "papermill": {
     "duration": 0.020067,
     "end_time": "2024-04-11T06:06:54.702279",
     "exception": false,
     "start_time": "2024-04-11T06:06:54.682212",
     "status": "completed"
    },
    "tags": []
   },
   "source": [
    "**PLOTTING CONFUSION MATRIX**"
   ]
  },
  {
   "cell_type": "code",
   "execution_count": 35,
   "id": "676f3fe1",
   "metadata": {
    "execution": {
     "iopub.execute_input": "2024-04-11T06:06:54.744127Z",
     "iopub.status.busy": "2024-04-11T06:06:54.743536Z",
     "iopub.status.idle": "2024-04-11T06:06:54.748879Z",
     "shell.execute_reply": "2024-04-11T06:06:54.747976Z"
    },
    "papermill": {
     "duration": 0.0294,
     "end_time": "2024-04-11T06:06:54.751304",
     "exception": false,
     "start_time": "2024-04-11T06:06:54.721904",
     "status": "completed"
    },
    "tags": []
   },
   "outputs": [
    {
     "data": {
      "text/plain": [
       "\"from sklearn.metrics import confusion_matrix\\n\\n# Define class labels (ratings from 0 to 5)\\nclass_labels = [str(i) for i in range(6)]\\n# Compute confusion matrix\\ncm = confusion_matrix(y_test, y_pred)\\n\\n# Plot confusion matrix\\nplt.figure(figsize=(8, 6))\\nsns.set(font_scale=1.4)  # Adjust font scale\\nsns.heatmap(cm, annot=True, cmap='Blues', fmt='g', cbar=False,\\n            xticklabels=class_labels,\\n            yticklabels=class_labels)\\nplt.xlabel('Predicted labels')\\nplt.ylabel('True labels')\\nplt.title('Confusion Matrix')\\nplt.show()\""
      ]
     },
     "execution_count": 35,
     "metadata": {},
     "output_type": "execute_result"
    }
   ],
   "source": [
    "'''from sklearn.metrics import confusion_matrix\n",
    "\n",
    "# Define class labels (ratings from 0 to 5)\n",
    "class_labels = [str(i) for i in range(6)]\n",
    "# Compute confusion matrix\n",
    "cm = confusion_matrix(y_test, y_pred)\n",
    "\n",
    "# Plot confusion matrix\n",
    "plt.figure(figsize=(8, 6))\n",
    "sns.set(font_scale=1.4)  # Adjust font scale\n",
    "sns.heatmap(cm, annot=True, cmap='Blues', fmt='g', cbar=False,\n",
    "            xticklabels=class_labels,\n",
    "            yticklabels=class_labels)\n",
    "plt.xlabel('Predicted labels')\n",
    "plt.ylabel('True labels')\n",
    "plt.title('Confusion Matrix')\n",
    "plt.show()'''"
   ]
  },
  {
   "cell_type": "markdown",
   "id": "4748a499",
   "metadata": {
    "papermill": {
     "duration": 0.019039,
     "end_time": "2024-04-11T06:06:54.789860",
     "exception": false,
     "start_time": "2024-04-11T06:06:54.770821",
     "status": "completed"
    },
    "tags": []
   },
   "source": [
    "# INSIGHTS FROM THE MODEL\n",
    "* **AMONG ALL THESE MODELS, LGBM_CLASSIFIER PERFORMED BEST**\n",
    "* **MODEL IS PERFORMING WELL AT CLASSIFYING MAJORITY CLASS BUT FAILS TO PREDICT MINORITY CLASSES**\n",
    "* **FINALLY WE WILL USE LGBM CLASSIFIER ON TEST DATA WHICH WAS UNSEEN TO FIND ACCURACY SCORE ON KAGGLE**"
   ]
  },
  {
   "cell_type": "code",
   "execution_count": 36,
   "id": "1e79dce8",
   "metadata": {
    "execution": {
     "iopub.execute_input": "2024-04-11T06:06:54.830860Z",
     "iopub.status.busy": "2024-04-11T06:06:54.830280Z",
     "iopub.status.idle": "2024-04-11T06:07:06.883875Z",
     "shell.execute_reply": "2024-04-11T06:07:06.882414Z"
    },
    "papermill": {
     "duration": 12.077811,
     "end_time": "2024-04-11T06:07:06.886843",
     "exception": false,
     "start_time": "2024-04-11T06:06:54.809032",
     "status": "completed"
    },
    "tags": []
   },
   "outputs": [],
   "source": [
    "from lightgbm import LGBMClassifier\n",
    "\n",
    "# Define the model\n",
    "model = LGBMClassifier()\n",
    "# Create a pipeline\n",
    "pipeline = Pipeline([\n",
    "    ('preprocessor', preprocessor),\n",
    "    ('model', model)\n",
    "])\n",
    "\n",
    "# Fit the pipeline\n",
    "pipeline.fit(X, y)\n",
    "\n",
    "# Make predictions\n",
    "y_pred = pipeline.predict(test_df)\n"
   ]
  },
  {
   "cell_type": "code",
   "execution_count": 37,
   "id": "d35a6b56",
   "metadata": {
    "execution": {
     "iopub.execute_input": "2024-04-11T06:07:06.927861Z",
     "iopub.status.busy": "2024-04-11T06:07:06.927510Z",
     "iopub.status.idle": "2024-04-11T06:07:06.934745Z",
     "shell.execute_reply": "2024-04-11T06:07:06.933393Z"
    },
    "papermill": {
     "duration": 0.030577,
     "end_time": "2024-04-11T06:07:06.937277",
     "exception": false,
     "start_time": "2024-04-11T06:07:06.906700",
     "status": "completed"
    },
    "tags": []
   },
   "outputs": [
    {
     "data": {
      "text/plain": [
       "array([5, 5, 0, 4, 5])"
      ]
     },
     "execution_count": 37,
     "metadata": {},
     "output_type": "execute_result"
    }
   ],
   "source": [
    "y_pred[:5]"
   ]
  },
  {
   "cell_type": "code",
   "execution_count": 38,
   "id": "9274689a",
   "metadata": {
    "execution": {
     "iopub.execute_input": "2024-04-11T06:07:06.977384Z",
     "iopub.status.busy": "2024-04-11T06:07:06.977063Z",
     "iopub.status.idle": "2024-04-11T06:07:06.989967Z",
     "shell.execute_reply": "2024-04-11T06:07:06.989000Z"
    },
    "papermill": {
     "duration": 0.035306,
     "end_time": "2024-04-11T06:07:06.992311",
     "exception": false,
     "start_time": "2024-04-11T06:07:06.957005",
     "status": "completed"
    },
    "tags": []
   },
   "outputs": [],
   "source": [
    "#saving predited data into csv\n",
    "submission = pd.DataFrame({\"ID\" : range(1,4547),\n",
    "                           \"Rating\" : y_pred})\n",
    "submission.to_csv(\"submission.csv\", index = False)"
   ]
  }
 ],
 "metadata": {
  "kaggle": {
   "accelerator": "none",
   "dataSources": [
    {
     "databundleVersionId": 7452256,
     "sourceId": 67079,
     "sourceType": "competition"
    }
   ],
   "dockerImageVersionId": 30635,
   "isGpuEnabled": false,
   "isInternetEnabled": true,
   "language": "python",
   "sourceType": "notebook"
  },
  "kernelspec": {
   "display_name": "Python 3",
   "language": "python",
   "name": "python3"
  },
  "language_info": {
   "codemirror_mode": {
    "name": "ipython",
    "version": 3
   },
   "file_extension": ".py",
   "mimetype": "text/x-python",
   "name": "python",
   "nbconvert_exporter": "python",
   "pygments_lexer": "ipython3",
   "version": "3.10.12"
  },
  "papermill": {
   "default_parameters": {},
   "duration": 28.073114,
   "end_time": "2024-04-11T06:07:07.936095",
   "environment_variables": {},
   "exception": null,
   "input_path": "__notebook__.ipynb",
   "output_path": "__notebook__.ipynb",
   "parameters": {},
   "start_time": "2024-04-11T06:06:39.862981",
   "version": "2.4.0"
  }
 },
 "nbformat": 4,
 "nbformat_minor": 5
}
